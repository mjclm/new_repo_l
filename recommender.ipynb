{
 "cells": [
  {
   "cell_type": "code",
   "execution_count": 1,
   "metadata": {},
   "outputs": [],
   "source": [
    "import pandas as pd\n",
    "import numpy as np\n",
    "import os, sys"
   ]
  },
  {
   "cell_type": "code",
   "execution_count": 2,
   "metadata": {},
   "outputs": [],
   "source": [
    "import torch\n",
    "from torch.utils.data import Dataset\n",
    "from torch.utils.data import DataLoader\n",
    "from torch.autograd import Variable\n",
    "import torch.nn as nn\n",
    "import torch.nn.functional as F\n",
    "import torch.optim as optim"
   ]
  },
  {
   "cell_type": "code",
   "execution_count": 3,
   "metadata": {},
   "outputs": [],
   "source": [
    "DATA_PATH = '../data/ml-latest-small'"
   ]
  },
  {
   "cell_type": "code",
   "execution_count": 4,
   "metadata": {},
   "outputs": [],
   "source": [
    "links_df = pd.read_csv(os.path.join(DATA_PATH, 'links.csv'))"
   ]
  },
  {
   "cell_type": "code",
   "execution_count": 5,
   "metadata": {},
   "outputs": [
    {
     "data": {
      "text/html": [
       "<div>\n",
       "<style scoped>\n",
       "    .dataframe tbody tr th:only-of-type {\n",
       "        vertical-align: middle;\n",
       "    }\n",
       "\n",
       "    .dataframe tbody tr th {\n",
       "        vertical-align: top;\n",
       "    }\n",
       "\n",
       "    .dataframe thead th {\n",
       "        text-align: right;\n",
       "    }\n",
       "</style>\n",
       "<table border=\"1\" class=\"dataframe\">\n",
       "  <thead>\n",
       "    <tr style=\"text-align: right;\">\n",
       "      <th></th>\n",
       "      <th>movieId</th>\n",
       "      <th>imdbId</th>\n",
       "      <th>tmdbId</th>\n",
       "    </tr>\n",
       "  </thead>\n",
       "  <tbody>\n",
       "    <tr>\n",
       "      <th>0</th>\n",
       "      <td>1</td>\n",
       "      <td>114709</td>\n",
       "      <td>862.0</td>\n",
       "    </tr>\n",
       "    <tr>\n",
       "      <th>1</th>\n",
       "      <td>2</td>\n",
       "      <td>113497</td>\n",
       "      <td>8844.0</td>\n",
       "    </tr>\n",
       "    <tr>\n",
       "      <th>2</th>\n",
       "      <td>3</td>\n",
       "      <td>113228</td>\n",
       "      <td>15602.0</td>\n",
       "    </tr>\n",
       "    <tr>\n",
       "      <th>3</th>\n",
       "      <td>4</td>\n",
       "      <td>114885</td>\n",
       "      <td>31357.0</td>\n",
       "    </tr>\n",
       "    <tr>\n",
       "      <th>4</th>\n",
       "      <td>5</td>\n",
       "      <td>113041</td>\n",
       "      <td>11862.0</td>\n",
       "    </tr>\n",
       "  </tbody>\n",
       "</table>\n",
       "</div>"
      ],
      "text/plain": [
       "   movieId  imdbId   tmdbId\n",
       "0        1  114709    862.0\n",
       "1        2  113497   8844.0\n",
       "2        3  113228  15602.0\n",
       "3        4  114885  31357.0\n",
       "4        5  113041  11862.0"
      ]
     },
     "execution_count": 5,
     "metadata": {},
     "output_type": "execute_result"
    }
   ],
   "source": [
    "links_df.head()"
   ]
  },
  {
   "cell_type": "code",
   "execution_count": 6,
   "metadata": {},
   "outputs": [],
   "source": [
    "import requests\n",
    "from bs4 import BeautifulSoup\n",
    "from threading import Thread"
   ]
  },
  {
   "cell_type": "code",
   "execution_count": 7,
   "metadata": {},
   "outputs": [
    {
     "name": "stdout",
     "output_type": "stream",
     "text": [
      "457 ns ± 5.7 ns per loop (mean ± std. dev. of 7 runs, 1000000 loops each)\n"
     ]
    }
   ],
   "source": [
    "%%timeit \n",
    "string = 'The quick brown fox jusmps over the lazy dog'\n",
    "l_w = ['brown', 'jusmps']\n",
    "for i in l_w:\n",
    "    string = string.replace(i, ' ')"
   ]
  },
  {
   "cell_type": "code",
   "execution_count": 170,
   "metadata": {},
   "outputs": [],
   "source": [
    "string = 'The quick brown fox jusmps over the lazy dog'\n",
    "l_w = ['brown', 'jusmps']\n",
    "s1 = string.replace('brown', '').replace('jusmps', '')"
   ]
  },
  {
   "cell_type": "code",
   "execution_count": 8,
   "metadata": {},
   "outputs": [],
   "source": [
    "import re"
   ]
  },
  {
   "cell_type": "code",
   "execution_count": 171,
   "metadata": {},
   "outputs": [],
   "source": [
    "string = 'The quick brown fox jusmps over the lazy dog'\n",
    "prohibitedWords = ['brown', 'jusmps']\n",
    "big_regex = re.compile('|'.join(map(re.escape, prohibitedWords)))\n",
    "s2 = big_regex.sub(\"\", string)"
   ]
  },
  {
   "cell_type": "code",
   "execution_count": 9,
   "metadata": {},
   "outputs": [],
   "source": [
    "prohibitedWords = ['\\n', '  ']"
   ]
  },
  {
   "cell_type": "code",
   "execution_count": 10,
   "metadata": {},
   "outputs": [],
   "source": [
    "class QuoteGetter(Thread):\n",
    "    def __init__(self, id):\n",
    "        super().__init__()\n",
    "        self.id = id\n",
    "        \n",
    "    def run(self):\n",
    "        base = 'https://www.imdb.com/title/tt0{}/'\n",
    "        r = requests.get(base.format(self.id))\n",
    "        soup = BeautifulSoup(r.content, \"lxml\")\n",
    "        try:\n",
    "            self.quote = (re\n",
    "                          .compile('|'.join(map(re.escape, prohibitedWords)))\n",
    "                          .sub(\"\", soup\n",
    "                               .find('div', {'class': \"summary_text\"})\n",
    "                               .get_text())\n",
    "                         )\n",
    "        except:\n",
    "            self.quote = ''"
   ]
  },
  {
   "cell_type": "code",
   "execution_count": 11,
   "metadata": {},
   "outputs": [],
   "source": [
    "def get_quotes(ids):\n",
    "    threads = [QuoteGetter(i) for i in ids]\n",
    "    for thread in threads:\n",
    "        thread.start()\n",
    "    for thread in threads:\n",
    "        thread.join()\n",
    "    quotes = dict(zip(ids, [thread.quote for thread in threads]))\n",
    "    return quotes"
   ]
  },
  {
   "cell_type": "code",
   "execution_count": 216,
   "metadata": {},
   "outputs": [],
   "source": [
    "ids = list(links_df.imdbId[:1000])"
   ]
  },
  {
   "cell_type": "code",
   "execution_count": 217,
   "metadata": {},
   "outputs": [],
   "source": [
    "description = get_quotes(ids)"
   ]
  },
  {
   "cell_type": "code",
   "execution_count": 584,
   "metadata": {},
   "outputs": [],
   "source": [
    "def id2descripion(id):\n",
    "    r = requests.get('https://www.imdb.com/title/tt0{}/'.format(id))\n",
    "    page = BeautifulSoup(r.content, \"html.parser\")\n",
    "    # short desscription\n",
    "    ##text = page.find('div', {'class': \"summary_text\"}).text\n",
    "    # StoryLine\n",
    "    text = page.find('div', {'class': \"inline canwrap\"}).text\n",
    "    return text"
   ]
  },
  {
   "cell_type": "code",
   "execution_count": 61,
   "metadata": {},
   "outputs": [
    {
     "name": "stdout",
     "output_type": "stream",
     "text": [
      "664 ms ± 56.4 ms per loop (mean ± std. dev. of 7 runs, 1 loop each)\n"
     ]
    }
   ],
   "source": [
    "%%timeit\n",
    "id = 113041\n",
    "id2descripion(id)"
   ]
  },
  {
   "cell_type": "code",
   "execution_count": 83,
   "metadata": {},
   "outputs": [],
   "source": [
    "r = requests.get('https://www.imdb.com/title/tt0{}/'.format(id))\n",
    "page = str(r.content)"
   ]
  },
  {
   "cell_type": "code",
   "execution_count": 81,
   "metadata": {},
   "outputs": [],
   "source": [
    "page.find('div class=\"inline canwrap\"')"
   ]
  },
  {
   "cell_type": "markdown",
   "metadata": {},
   "source": [
    "## Recommender collaborative filtering"
   ]
  },
  {
   "cell_type": "code",
   "execution_count": 20,
   "metadata": {},
   "outputs": [],
   "source": [
    "movies_df = pd.read_csv(os.path.join(DATA_PATH, 'movies.csv'))"
   ]
  },
  {
   "cell_type": "code",
   "execution_count": 84,
   "metadata": {},
   "outputs": [],
   "source": [
    "ratings_df = pd.read_csv(os.path.join(DATA_PATH, 'ratings.csv')).query(\"rating >= 4\").drop(columns=['rating', 'timestamp'])"
   ]
  },
  {
   "cell_type": "code",
   "execution_count": 517,
   "metadata": {},
   "outputs": [],
   "source": [
    "k_id = set((ratings_df.movieId.value_counts()[ratings_df.movieId.value_counts() > 1]).index)\n",
    "ratings_df.query(\"movieId in @k_id\", inplace=True)"
   ]
  },
  {
   "cell_type": "code",
   "execution_count": 518,
   "metadata": {},
   "outputs": [],
   "source": [
    "id2id = {e: i for i, e in enumerate(ratings_df.movieId.unique())}\n",
    "ratings_df['movieId'] = ratings_df.movieId.map(id2id)"
   ]
  },
  {
   "cell_type": "code",
   "execution_count": 519,
   "metadata": {},
   "outputs": [],
   "source": [
    "list_movies = ratings_df.groupby('userId').agg(list).movieId"
   ]
  },
  {
   "cell_type": "code",
   "execution_count": 521,
   "metadata": {},
   "outputs": [],
   "source": [
    "def to_onehot(labels, n_categories, dtype=torch.float32):\n",
    "    batch_size = len(labels)\n",
    "    one_hot_labels = torch.zeros(size=(batch_size, n_categories), dtype=dtype)\n",
    "    for i, label in enumerate(labels):\n",
    "        # Subtract 1 from each LongTensor because your\n",
    "        # indexing starts at 1 and tensor indexing starts at 0\n",
    "        label = torch.LongTensor(label)\n",
    "        one_hot_labels[i] = one_hot_labels[i].scatter_(dim=0, index=label, value=1.)\n",
    "    return one_hot_labels"
   ]
  },
  {
   "cell_type": "code",
   "execution_count": 522,
   "metadata": {},
   "outputs": [],
   "source": [
    "n_user = ratings_df.userId.max() + 1\n",
    "user_oh = to_onehot([[u] for u in ratings_df.userId], n_user, dtype=torch.float32)"
   ]
  },
  {
   "cell_type": "code",
   "execution_count": 523,
   "metadata": {},
   "outputs": [],
   "source": [
    "n_movie = ratings_df.movieId.max() + 1\n",
    "movie_oh = to_onehot([[m] for m in ratings_df.movieId], n_movie, dtype=torch.float32)"
   ]
  },
  {
   "cell_type": "code",
   "execution_count": 44,
   "metadata": {},
   "outputs": [],
   "source": [
    "n_movie = ratings_df.movieId.max() + 1\n",
    "output_oh = to_onehot([list_movies[u] for u in ratings_df.userId], n_movie, dtype=torch.float32)"
   ]
  },
  {
   "cell_type": "code",
   "execution_count": 524,
   "metadata": {},
   "outputs": [],
   "source": [
    "class ratingsDataset(Dataset):\n",
    "    \n",
    "    def __init__(self, data, itemId, userId):\n",
    "        \n",
    "        self.itemId, self.userId = torch.LongTensor(data[itemId]), torch.LongTensor(data[userId])\n",
    "        self.n_user, self.n_item = len(self.userId.unique()), len(self.itemId.unique())\n",
    "        self.n = len(self.itemId)\n",
    "        #self.itemInput, self.userInput = (to_onehot([[i] for i in self.itemId], self.itemId.max() + 1, dtype=torch.float32), \n",
    "        #                                  to_onehot([[u] for u in self.userId], self.userId.max() + 1, dtype=torch.float32))\n",
    "        list_item = data.groupby(userId).agg(list)[itemId]\n",
    "        self.output = to_onehot([list_item[u.item()] for u in self.userId], self.itemId.max() + 1, dtype=torch.float32)\n",
    "        \n",
    "    def __len__(self):\n",
    "        return self.n\n",
    "        \n",
    "    def __getitem__(self, idx):\n",
    "        return (self.itemId[idx], self.userId[idx], self.output[idx])"
   ]
  },
  {
   "cell_type": "code",
   "execution_count": 525,
   "metadata": {},
   "outputs": [],
   "source": [
    "from torch.utils.data.dataset import random_split"
   ]
  },
  {
   "cell_type": "code",
   "execution_count": 528,
   "metadata": {},
   "outputs": [],
   "source": [
    "split = 0.6"
   ]
  },
  {
   "cell_type": "code",
   "execution_count": 529,
   "metadata": {},
   "outputs": [],
   "source": [
    "dataset = ratingsDataset(ratings_df, 'movieId', 'userId')\n",
    "lengths = [int(dataset.__len__() * split), int(dataset.__len__() * (1-split)) + 1]\n",
    "train_data, test_data = random_split(dataset, lengths)\n",
    "train_loader = DataLoader(train_data, batch_size=16, shuffle=True)\n",
    "test_loader = DataLoader(test_data, batch_size=16, shuffle=True)"
   ]
  },
  {
   "cell_type": "code",
   "execution_count": 531,
   "metadata": {},
   "outputs": [],
   "source": [
    "class reco(nn.Module):\n",
    "    \n",
    "    def __init__(self, nItem, nUser):\n",
    "        super(reco, self).__init__()\n",
    "\n",
    "        ## GMF\n",
    "        self.embedding_user_gmf = torch.nn.Embedding(num_embeddings=nUser, embedding_dim=10)\n",
    "        self.embedding_item_gmf = torch.nn.Embedding(num_embeddings=nItem, embedding_dim=10)      \n",
    "        ## MLP\n",
    "        self.embedding_user_mlp = torch.nn.Embedding(num_embeddings=nUser, embedding_dim=10)\n",
    "        self.embedding_item_mlp = torch.nn.Embedding(num_embeddings=nItem, embedding_dim=10)\n",
    "        self.nnItem = nn.Sequential(\n",
    "            nn.Linear(10, 32),\n",
    "            nn.ReLU(),\n",
    "            nn.Linear(32, 16),\n",
    "            nn.ReLU()\n",
    "        )\n",
    "        self.nnUser = nn.Sequential(\n",
    "            nn.Linear(10, 32),\n",
    "            nn.ReLU(),\n",
    "            nn.Linear(32, 16),\n",
    "            nn.ReLU()\n",
    "        )\n",
    "        self.nnFinal = nn.Sequential(\n",
    "            nn.Linear(32, 16),\n",
    "            nn.ReLU(),\n",
    "            nn.Linear(16, 10),\n",
    "        )\n",
    "        # total\n",
    "        self.affine_output = nn.Linear(in_features=10+10, out_features=nItem)\n",
    "        self.logistic = nn.Sigmoid()  \n",
    "        \n",
    "    def forward(self, item, user):\n",
    "        # GMF\n",
    "        user_embedding_gmf = self.embedding_user_gmf(user)\n",
    "        item_embedding_gmf = self.embedding_item_gmf(item)        \n",
    "        x_gmf = torch.mul(user_embedding_gmf, item_embedding_gmf)\n",
    "        # MLP\n",
    "        user_embedding_mlp = self.embedding_user_mlp(user)\n",
    "        item_embedding_mlp = self.embedding_item_mlp(item)\n",
    "        x1 = self.nnItem(item_embedding_mlp)\n",
    "        x2 = self.nnUser(user_embedding_mlp)\n",
    "        x_mlp = torch.cat((x1, x2), dim=1)\n",
    "        x_mlp = self.nnFinal(x_mlp)\n",
    "        # concat the two models\n",
    "        vector = torch.cat((x_mlp, x_gmf), dim=1)\n",
    "        logits = self.affine_output(vector)\n",
    "        x = self.logistic(logits)   \n",
    "        return x"
   ]
  },
  {
   "cell_type": "code",
   "execution_count": 532,
   "metadata": {},
   "outputs": [],
   "source": [
    "R = reco(ratings_df.movieId.max() + 1, ratings_df.userId.max() + 1 )"
   ]
  },
  {
   "cell_type": "code",
   "execution_count": 533,
   "metadata": {},
   "outputs": [],
   "source": [
    "criterion = torch.nn.BCELoss()\n",
    "optimizer = optim.Adam(R.parameters(), lr=0.001, betas=(0.5, 0.9))"
   ]
  },
  {
   "cell_type": "code",
   "execution_count": 534,
   "metadata": {},
   "outputs": [],
   "source": [
    "all_losses = []"
   ]
  },
  {
   "cell_type": "code",
   "execution_count": 535,
   "metadata": {},
   "outputs": [],
   "source": [
    "import time\n",
    "import math\n",
    "\n",
    "def timeSince(since):\n",
    "    now = time.time()\n",
    "    s = now - since\n",
    "    m = math.floor(s / 60)\n",
    "    s -= m * 60\n",
    "    return '%dm %ds' % (m, s)"
   ]
  },
  {
   "cell_type": "code",
   "execution_count": 536,
   "metadata": {},
   "outputs": [
    {
     "name": "stdout",
     "output_type": "stream",
     "text": [
      "0m 0s, 0 0.7172\n",
      "0m 1s, 200 0.2000\n",
      "0m 2s, 400 0.1954\n",
      "0m 4s, 600 0.1315\n",
      "0m 5s, 800 0.1483\n",
      "0m 6s, 1000 0.1797\n",
      "0m 8s, 1200 0.1355\n",
      "0m 9s, 1400 0.1356\n",
      "0m 11s, 1600 0.1629\n",
      "0m 12s, 0 0.1189\n",
      "0m 14s, 200 0.1729\n",
      "0m 15s, 400 0.1519\n",
      "0m 17s, 600 0.1674\n",
      "0m 18s, 800 0.1705\n",
      "0m 20s, 1000 0.1505\n",
      "0m 21s, 1200 0.1522\n",
      "0m 23s, 1400 0.1615\n",
      "0m 24s, 1600 0.1046\n",
      "0m 25s, 0 0.1401\n",
      "0m 26s, 200 0.1437\n",
      "0m 28s, 400 0.1387\n",
      "0m 29s, 600 0.1373\n",
      "0m 31s, 800 0.1280\n",
      "0m 32s, 1000 0.1214\n",
      "0m 34s, 1200 0.1220\n",
      "0m 35s, 1400 0.1184\n",
      "0m 37s, 1600 0.1176\n",
      "0m 38s, 0 0.1070\n",
      "0m 40s, 200 0.1110\n",
      "0m 41s, 400 0.1227\n",
      "0m 43s, 600 0.1014\n",
      "0m 45s, 800 0.1225\n",
      "0m 46s, 1000 0.1328\n",
      "0m 48s, 1200 0.1171\n",
      "0m 49s, 1400 0.1387\n",
      "0m 51s, 1600 0.1169\n",
      "0m 52s, 0 0.1158\n",
      "0m 54s, 200 0.0824\n",
      "0m 55s, 400 0.1004\n",
      "0m 57s, 600 0.0892\n",
      "0m 59s, 800 0.1209\n",
      "1m 0s, 1000 0.1073\n",
      "1m 2s, 1200 0.1096\n",
      "1m 4s, 1400 0.0840\n",
      "1m 5s, 1600 0.1086\n",
      "Finished Training\n"
     ]
    }
   ],
   "source": [
    "start = time.time()\n",
    "\n",
    "for epoch in range(5):  # loop over the dataset multiple times\n",
    "\n",
    "    running_loss = 0.0\n",
    "    for i, data in enumerate(train_loader):\n",
    "        # get the inputs; data is a list of [inputs, labels]\n",
    "        items, users, targets = data\n",
    "\n",
    "        # zero the parameter gradients\n",
    "        optimizer.zero_grad()\n",
    "\n",
    "        # forward + backward + optimize\n",
    "        outputs = R(items, users)\n",
    "        loss = criterion(outputs, targets)\n",
    "        loss.backward()\n",
    "        optimizer.step()\n",
    "\n",
    "        # print statistics\n",
    "        if i % 200 == 0:\n",
    "            print('%s, %d %d %.4f' % (timeSince(start), e, i, loss))\n",
    "        all_losses.append(loss.item())            \n",
    "\n",
    "print('Finished Training')"
   ]
  },
  {
   "cell_type": "code",
   "execution_count": 537,
   "metadata": {},
   "outputs": [
    {
     "data": {
      "text/plain": [
       "[<matplotlib.lines.Line2D at 0x1df4659e710>]"
      ]
     },
     "execution_count": 537,
     "metadata": {},
     "output_type": "execute_result"
    },
    {
     "data": {
      "image/png": "[encoded data removed]",
      "text/plain": [
       "<Figure size 432x288 with 1 Axes>"
      ]
     },
     "metadata": {
      "needs_background": "light"
     },
     "output_type": "display_data"
    }
   ],
   "source": [
    "import matplotlib.pyplot as plt\n",
    "import matplotlib.ticker as ticker\n",
    "%matplotlib inline\n",
    "\n",
    "plt.figure()\n",
    "plt.plot(all_losses)"
   ]
  },
  {
   "cell_type": "code",
   "execution_count": 538,
   "metadata": {},
   "outputs": [
    {
     "name": "stdout",
     "output_type": "stream",
     "text": [
      "0.04081026097339817\n"
     ]
    }
   ],
   "source": [
    "correct = 0\n",
    "total = 0\n",
    "with torch.no_grad():\n",
    "    for data in train_loader:\n",
    "        items, users, targets = data\n",
    "        outputs = R(items, users)\n",
    "        predicted = torch.round(outputs.data)\n",
    "        keep_one = targets == 1\n",
    "        total += 1\n",
    "        correct += sum(predicted[keep_one] == targets[keep_one]).item() / targets[targets == 1].size(0)\n",
    "        # total += targets.size(0)\n",
    "        # correct += (predicted == targets).sum(dim=0).float()\n",
    "\n",
    "print((correct / total))"
   ]
  },
  {
   "cell_type": "code",
   "execution_count": 540,
   "metadata": {},
   "outputs": [],
   "source": [
    "correct = 0\n",
    "total = 0\n",
    "with torch.no_grad():\n",
    "    for data in train_loader:\n",
    "        items, users, targets = data\n",
    "        outputs = R(items, users)\n",
    "        predicted = torch.round(outputs.data)\n",
    "        total += targets.size(0)\n",
    "        correct += (predicted == targets).sum(dim=0).float()"
   ]
  },
  {
   "cell_type": "code",
   "execution_count": 541,
   "metadata": {},
   "outputs": [
    {
     "data": {
      "text/plain": [
       "<BarContainer object of 3722 artists>"
      ]
     },
     "execution_count": 541,
     "metadata": {},
     "output_type": "execute_result"
    },
    {
     "data": {
      "image/png": "[encoded data removed]",
      "text/plain": [
       "<Figure size 432x288 with 1 Axes>"
      ]
     },
     "metadata": {
      "needs_background": "light"
     },
     "output_type": "display_data"
    }
   ],
   "source": [
    "plt.bar(np.arange(ratings_df.movieId.max() + 1), (correct / total).numpy())"
   ]
  },
  {
   "cell_type": "code",
   "execution_count": 486,
   "metadata": {},
   "outputs": [
    {
     "data": {
      "text/plain": [
       "tensor([1, 1, 0,  ..., 1, 1, 1], dtype=torch.uint8)"
      ]
     },
     "execution_count": 486,
     "metadata": {},
     "output_type": "execute_result"
    }
   ],
   "source": [
    "keep_one = targets == 1\n",
    "predicted[keep_one] == targets[keep_one] "
   ]
  },
  {
   "cell_type": "code",
   "execution_count": 479,
   "metadata": {},
   "outputs": [
    {
     "data": {
      "text/plain": [
       "tensor(211, dtype=torch.uint8)"
      ]
     },
     "execution_count": 479,
     "metadata": {},
     "output_type": "execute_result"
    }
   ],
   "source": [
    "sum((predicted == targets)[0]) / "
   ]
  },
  {
   "cell_type": "code",
   "execution_count": 515,
   "metadata": {},
   "outputs": [
    {
     "data": {
      "text/plain": [
       "tensor([[1., 0., 1.,  ..., 0., 0., 0.]], grad_fn=<RoundBackward>)"
      ]
     },
     "execution_count": 515,
     "metadata": {},
     "output_type": "execute_result"
    }
   ],
   "source": [
    "torch.round(R(items, users))"
   ]
  },
  {
   "cell_type": "code",
   "execution_count": 539,
   "metadata": {},
   "outputs": [
    {
     "data": {
      "text/plain": [
       "3722"
      ]
     },
     "execution_count": 539,
     "metadata": {},
     "output_type": "execute_result"
    }
   ],
   "source": [
    "targ[targets == 1]"
   ]
  },
  {
   "cell_type": "markdown",
   "metadata": {},
   "source": [
    "## Recommender description based"
   ]
  },
  {
   "cell_type": "code",
   "execution_count": 218,
   "metadata": {},
   "outputs": [],
   "source": [
    "imdbId2mId = {i + 1: m for i, m in enumerate(links_df.imdbId)}"
   ]
  },
  {
   "cell_type": "code",
   "execution_count": 219,
   "metadata": {},
   "outputs": [],
   "source": [
    "import itertools"
   ]
  },
  {
   "cell_type": "code",
   "execution_count": 220,
   "metadata": {},
   "outputs": [],
   "source": [
    "l = [c.split('|') for c in list(movies_df.genres)]"
   ]
  },
  {
   "cell_type": "code",
   "execution_count": 32,
   "metadata": {},
   "outputs": [
    {
     "name": "stdout",
     "output_type": "stream",
     "text": [
      "948 µs ± 11.7 µs per loop (mean ± std. dev. of 7 runs, 1000 loops each)\n",
      "646 µs ± 16.7 µs per loop (mean ± std. dev. of 7 runs, 1000 loops each)\n"
     ]
    }
   ],
   "source": [
    "%timeit a = [item for sublist in l for item in sublist]\n",
    "%timeit b = list(itertools.chain.from_iterable(l))"
   ]
  },
  {
   "cell_type": "code",
   "execution_count": 221,
   "metadata": {},
   "outputs": [],
   "source": [
    "import numpy as np\n",
    "genres = list(np.unique(list(itertools.chain.from_iterable(l))))"
   ]
  },
  {
   "cell_type": "code",
   "execution_count": 222,
   "metadata": {},
   "outputs": [],
   "source": [
    "genre_oh = np.array([[int(genres[i] in j) for i in range(20)] for j in movies_df.genres])"
   ]
  },
  {
   "cell_type": "code",
   "execution_count": 80,
   "metadata": {},
   "outputs": [
    {
     "data": {
      "text/plain": [
       "('George Banks must deal not only with the pregnancy of his daughter, but also with the unexpected pregnancy of his wife.',\n",
       " 'Father of the Bride Part II (1995)')"
      ]
     },
     "execution_count": 80,
     "metadata": {},
     "output_type": "execute_result"
    }
   ],
   "source": [
    "id = 4\n",
    "description[imdbId2mId[id+1]], movies_df.title[id]"
   ]
  },
  {
   "cell_type": "code",
   "execution_count": 114,
   "metadata": {},
   "outputs": [],
   "source": [
    "## rule to keep only some movies\n",
    "a = ratings_df.movieId.value_counts()\n",
    "b = set(a[a.between(5, 50)].index)\n",
    "c = ratings_df.query(\"movieId in @b\")"
   ]
  },
  {
   "cell_type": "code",
   "execution_count": 223,
   "metadata": {},
   "outputs": [],
   "source": [
    "r_df = pd.DataFrame({\n",
    "    'title': [movies_df.title[i] for i in range(1000)],\n",
    "    'description': [description[imdbId2mId[i+1]] for i in range(1000)]\n",
    "})"
   ]
  },
  {
   "cell_type": "code",
   "execution_count": 235,
   "metadata": {},
   "outputs": [],
   "source": [
    "contentMovie_df = pd.merge(r_df, pd.DataFrame(genre_oh[:100], columns=genres), right_index=True, left_index=True)"
   ]
  },
  {
   "cell_type": "code",
   "execution_count": 6,
   "metadata": {},
   "outputs": [],
   "source": [
    "DATA_FOLDER = '../data'\n",
    "FILE = 'train.csv'"
   ]
  },
  {
   "cell_type": "code",
   "execution_count": 237,
   "metadata": {},
   "outputs": [],
   "source": [
    "contentMovie_df.drop(columns='title', inplace=True)\n",
    "contentMovie_df.to_csv(os.path.join(DATA_FOLDER, FILE))"
   ]
  },
  {
   "cell_type": "code",
   "execution_count": 7,
   "metadata": {},
   "outputs": [],
   "source": [
    "contentMovie_df = pd.read_csv(os.path.join(DATA_FOLDER, FILE))"
   ]
  },
  {
   "cell_type": "code",
   "execution_count": 113,
   "metadata": {},
   "outputs": [],
   "source": [
    "desc = list(contentMovie_df.description)\n",
    "desc = [d \n",
    "        if type(d) is not np.float \n",
    "        else 'Nothing' \n",
    "        for d in desc]"
   ]
  },
  {
   "cell_type": "code",
   "execution_count": 11,
   "metadata": {},
   "outputs": [],
   "source": [
    "import spacy\n",
    "nlp = spacy.load(\"en_core_web_sm\")"
   ]
  },
  {
   "cell_type": "code",
   "execution_count": 76,
   "metadata": {},
   "outputs": [],
   "source": [
    "spacy_sw = spacy.lang.en.stop_words.STOP_WORDS\n",
    "def fct(doc):\n",
    "    return ' '.join([w.lemma_ for w in doc \n",
    "            if w.lemma_ not in spacy_sw and \n",
    "            not w.is_punct and \n",
    "            w.tag_ != 'VBN'\n",
    "           ])"
   ]
  },
  {
   "cell_type": "code",
   "execution_count": 117,
   "metadata": {},
   "outputs": [],
   "source": [
    "docs = nlp.pipe(desc)"
   ]
  },
  {
   "cell_type": "code",
   "execution_count": 118,
   "metadata": {},
   "outputs": [],
   "source": [
    "clean_desc = [fct(doc) for doc in docs]"
   ]
  },
  {
   "cell_type": "code",
   "execution_count": null,
   "metadata": {},
   "outputs": [],
   "source": []
  },
  {
   "cell_type": "code",
   "execution_count": null,
   "metadata": {},
   "outputs": [],
   "source": []
  },
  {
   "cell_type": "code",
   "execution_count": null,
   "metadata": {},
   "outputs": [],
   "source": []
  },
  {
   "cell_type": "code",
   "execution_count": 239,
   "metadata": {},
   "outputs": [],
   "source": [
    "from torchtext.data import Field\n",
    "tokenize = lambda x: x.split()\n",
    "TEXT = Field(sequential=True, tokenize=tokenize, lower=True)\n",
    "LABEL = Field(sequential=False, use_vocab=False)"
   ]
  },
  {
   "cell_type": "code",
   "execution_count": 240,
   "metadata": {},
   "outputs": [],
   "source": [
    "from torchtext.data import TabularDataset\n",
    "tv_datafields = [(\"id\", None), # we won't be needing the id, so we pass in None as the field\n",
    "                 (\"description\", TEXT)] + [(g, LABEL) for g in genres]"
   ]
  },
  {
   "cell_type": "code",
   "execution_count": 241,
   "metadata": {},
   "outputs": [],
   "source": [
    "trn = TabularDataset.splits(\n",
    "        path=\"../data\", # the root directory where the data lies\n",
    "        train='train.csv',\n",
    "        format='csv',\n",
    "        skip_header=True, # if your csv header has a header, make sure to pass this to ensure it doesn't get proceesed as data!\n",
    "        fields=tv_datafields)[0]"
   ]
  },
  {
   "cell_type": "code",
   "execution_count": 242,
   "metadata": {},
   "outputs": [],
   "source": [
    "TEXT.build_vocab(trn)"
   ]
  },
  {
   "cell_type": "code",
   "execution_count": 243,
   "metadata": {},
   "outputs": [
    {
     "data": {
      "text/plain": [
       "[('a', 163),\n",
       " ('the', 112),\n",
       " ('to', 82),\n",
       " ('and', 64),\n",
       " ('of', 57),\n",
       " ('in', 47),\n",
       " ('his', 41),\n",
       " ('an', 28),\n",
       " ('is', 26),\n",
       " ('with', 24)]"
      ]
     },
     "execution_count": 243,
     "metadata": {},
     "output_type": "execute_result"
    }
   ],
   "source": [
    "TEXT.vocab.freqs.most_common(10)"
   ]
  },
  {
   "cell_type": "code",
   "execution_count": 244,
   "metadata": {},
   "outputs": [
    {
     "data": {
      "text/plain": [
       "['a', 'cowboy', 'doll']"
      ]
     },
     "execution_count": 244,
     "metadata": {},
     "output_type": "execute_result"
    }
   ],
   "source": [
    "trn[0].description[:3]"
   ]
  },
  {
   "cell_type": "code",
   "execution_count": 245,
   "metadata": {},
   "outputs": [],
   "source": [
    "from torchtext.data import Iterator, BucketIterator"
   ]
  },
  {
   "cell_type": "code",
   "execution_count": 246,
   "metadata": {},
   "outputs": [],
   "source": [
    "train_iter = BucketIterator(\n",
    "        trn, # we pass in the datasets we want the iterator to draw data from\n",
    "        batch_size=64,\n",
    "        sort_key=lambda x: len(x.comment_text), # the BucketIterator needs to be told what function it should use to group the data.\n",
    "        sort_within_batch=False,\n",
    "        repeat=False # we pass repeat=False because we want to wrap this Iterator layer.\n",
    ")"
   ]
  },
  {
   "cell_type": "code",
   "execution_count": 247,
   "metadata": {},
   "outputs": [
    {
     "data": {
      "text/plain": [
       "\n",
       "[torchtext.data.batch.Batch of size 36]\n",
       "\t[.description]:[torch.LongTensor of size 40x36]\n",
       "\t[.(no genres listed)]:[torch.LongTensor of size 36]\n",
       "\t[.Action]:[torch.LongTensor of size 36]\n",
       "\t[.Adventure]:[torch.LongTensor of size 36]\n",
       "\t[.Animation]:[torch.LongTensor of size 36]\n",
       "\t[.Children]:[torch.LongTensor of size 36]\n",
       "\t[.Comedy]:[torch.LongTensor of size 36]\n",
       "\t[.Crime]:[torch.LongTensor of size 36]\n",
       "\t[.Documentary]:[torch.LongTensor of size 36]\n",
       "\t[.Drama]:[torch.LongTensor of size 36]\n",
       "\t[.Fantasy]:[torch.LongTensor of size 36]\n",
       "\t[.Film-Noir]:[torch.LongTensor of size 36]\n",
       "\t[.Horror]:[torch.LongTensor of size 36]\n",
       "\t[.IMAX]:[torch.LongTensor of size 36]\n",
       "\t[.Musical]:[torch.LongTensor of size 36]\n",
       "\t[.Mystery]:[torch.LongTensor of size 36]\n",
       "\t[.Romance]:[torch.LongTensor of size 36]\n",
       "\t[.Sci-Fi]:[torch.LongTensor of size 36]\n",
       "\t[.Thriller]:[torch.LongTensor of size 36]\n",
       "\t[.War]:[torch.LongTensor of size 36]\n",
       "\t[.Western]:[torch.LongTensor of size 36]"
      ]
     },
     "execution_count": 247,
     "metadata": {},
     "output_type": "execute_result"
    }
   ],
   "source": [
    "batch = next(train_iter.__iter__()); batch"
   ]
  },
  {
   "cell_type": "code",
   "execution_count": 248,
   "metadata": {},
   "outputs": [
    {
     "data": {
      "text/plain": [
       "dict_keys(['batch_size', 'dataset', 'fields', 'input_fields', 'target_fields', 'description', '(no genres listed)', 'Action', 'Adventure', 'Animation', 'Children', 'Comedy', 'Crime', 'Documentary', 'Drama', 'Fantasy', 'Film-Noir', 'Horror', 'IMAX', 'Musical', 'Mystery', 'Romance', 'Sci-Fi', 'Thriller', 'War', 'Western'])"
      ]
     },
     "execution_count": 248,
     "metadata": {},
     "output_type": "execute_result"
    }
   ],
   "source": [
    "batch.__dict__.keys()"
   ]
  },
  {
   "cell_type": "code",
   "execution_count": 249,
   "metadata": {},
   "outputs": [],
   "source": [
    "class BatchWrapper:\n",
    "    def __init__(self, dl, x_var, y_vars):\n",
    "        self.dl, self.x_var, self.y_vars = dl, x_var, y_vars # we pass in the list of attributes for x and y\n",
    "    \n",
    "    def __iter__(self):\n",
    "        for batch in self.dl:\n",
    "            x = getattr(batch, self.x_var) # we assume only one input in this wrapper\n",
    "            \n",
    "            if self.y_vars is not None: # we will concatenate y into a single tensor\n",
    "                y = torch.cat([getattr(batch, feat).unsqueeze(1) for feat in self.y_vars], dim=1).float()\n",
    "            else:\n",
    "                y = torch.zeros((1))\n",
    "\n",
    "            yield (x, y)\n",
    "    \n",
    "    def __len__(self):\n",
    "        return len(self.dl)"
   ]
  },
  {
   "cell_type": "code",
   "execution_count": 250,
   "metadata": {},
   "outputs": [],
   "source": [
    "train_dl = BatchWrapper(train_iter, \"description\", genres)"
   ]
  },
  {
   "cell_type": "code",
   "execution_count": 251,
   "metadata": {},
   "outputs": [
    {
     "data": {
      "text/plain": [
       "(tensor([[1053,    2,    2,  ...,    9,  356,   56],\n",
       "         [ 304,  339, 1173,  ...,   78,  578,  245],\n",
       "         [   4,   46,   13,  ...,  203,  489,  140],\n",
       "         ...,\n",
       "         [   1,    1,    1,  ...,    1,    1,    1],\n",
       "         [   1,    1,    1,  ...,    1,    1,    1],\n",
       "         [   1,    1,    1,  ...,    1,    1,    1]]),\n",
       " tensor([[0., 1., 0.,  ..., 1., 0., 0.],\n",
       "         [0., 0., 0.,  ..., 0., 0., 0.],\n",
       "         [0., 0., 0.,  ..., 0., 1., 0.],\n",
       "         ...,\n",
       "         [0., 0., 0.,  ..., 0., 0., 0.],\n",
       "         [0., 0., 0.,  ..., 0., 0., 0.],\n",
       "         [0., 0., 0.,  ..., 0., 0., 0.]]))"
      ]
     },
     "execution_count": 251,
     "metadata": {},
     "output_type": "execute_result"
    }
   ],
   "source": [
    "next(train_dl.__iter__())"
   ]
  },
  {
   "cell_type": "code",
   "execution_count": 302,
   "metadata": {},
   "outputs": [],
   "source": [
    "import torch.nn as nn\n",
    "import torch.nn.functional as F\n",
    "import torch.optim as optim\n",
    "from torch.autograd import Variable"
   ]
  },
  {
   "cell_type": "code",
   "execution_count": 312,
   "metadata": {},
   "outputs": [
    {
     "data": {
      "text/plain": [
       "range(0, 0)"
      ]
     },
     "execution_count": 312,
     "metadata": {},
     "output_type": "execute_result"
    }
   ],
   "source": [
    "range(0)"
   ]
  },
  {
   "cell_type": "code",
   "execution_count": 313,
   "metadata": {},
   "outputs": [],
   "source": [
    "class SimpleBiLSTMBaseline(nn.Module):\n",
    "    def __init__(self, hidden_dim, emb_dim=300,\n",
    "                 spatial_dropout=0.05, recurrent_dropout=0.1, \n",
    "                 num_linear=2):\n",
    "        super().__init__() # don't forget to call this!\n",
    "        self.embedding = nn.Embedding(len(TEXT.vocab), emb_dim)\n",
    "        self.encoder = nn.LSTM(emb_dim, hidden_dim, num_layers=2, \n",
    "                               dropout=recurrent_dropout)\n",
    "        self.linear_layers = []\n",
    "        for _ in range(num_linear - 1):\n",
    "            self.linear_layers.append(nn.Linear(hidden_dim, \n",
    "                                                hidden_dim))\n",
    "        self.linear_layers = nn.ModuleList(self.linear_layers)\n",
    "        self.predictor = nn.Linear(hidden_dim, 20)\n",
    "        self.sigmoid = nn.Sigmoid()\n",
    "    \n",
    "    def forward(self, seq):\n",
    "        hdn, _ = self.encoder(self.embedding(seq))\n",
    "        feature = hdn[-1, :, :]\n",
    "        for layer in self.linear_layers:\n",
    "            feature = layer(feature)\n",
    "        preds = self.predictor(feature)\n",
    "        return self.sigmoid(preds)"
   ]
  },
  {
   "cell_type": "code",
   "execution_count": 314,
   "metadata": {},
   "outputs": [
    {
     "data": {
      "text/plain": [
       "SimpleBiLSTMBaseline(\n",
       "  (embedding): Embedding(1234, 64)\n",
       "  (encoder): LSTM(64, 250, num_layers=2, dropout=0.1)\n",
       "  (linear_layers): ModuleList(\n",
       "    (0): Linear(in_features=250, out_features=250, bias=True)\n",
       "    (1): Linear(in_features=250, out_features=250, bias=True)\n",
       "  )\n",
       "  (predictor): Linear(in_features=250, out_features=20, bias=True)\n",
       "  (sigmoid): Sigmoid()\n",
       ")"
      ]
     },
     "execution_count": 314,
     "metadata": {},
     "output_type": "execute_result"
    }
   ],
   "source": [
    "em_sz = 64\n",
    "nh = 250\n",
    "nl = 3\n",
    "model = SimpleBiLSTMBaseline(nh, emb_dim=em_sz, num_linear=nl); model"
   ]
  },
  {
   "cell_type": "markdown",
   "metadata": {},
   "source": [
    "#### Training"
   ]
  },
  {
   "cell_type": "code",
   "execution_count": 315,
   "metadata": {},
   "outputs": [],
   "source": [
    "import tqdm"
   ]
  },
  {
   "cell_type": "code",
   "execution_count": 316,
   "metadata": {},
   "outputs": [],
   "source": [
    "opt = optim.Adam(model.parameters(), lr=1e-3, betas=(0.5, 0.9))\n",
    "loss_func = nn.BCEWithLogitsLoss()"
   ]
  },
  {
   "cell_type": "code",
   "execution_count": 317,
   "metadata": {},
   "outputs": [],
   "source": [
    "epochs = 10\n",
    "losses = []"
   ]
  },
  {
   "cell_type": "code",
   "execution_count": 318,
   "metadata": {},
   "outputs": [
    {
     "name": "stderr",
     "output_type": "stream",
     "text": [
      "100%|█████████████████████████████████████████████████████████████████████████████████| 2/2 [00:00<00:00,  3.56it/s]\n"
     ]
    },
    {
     "name": "stdout",
     "output_type": "stream",
     "text": [
      "Epoch: 1, Training Loss: 0.7837\n"
     ]
    },
    {
     "name": "stderr",
     "output_type": "stream",
     "text": [
      "100%|█████████████████████████████████████████████████████████████████████████████████| 2/2 [00:00<00:00,  3.06it/s]\n"
     ]
    },
    {
     "name": "stdout",
     "output_type": "stream",
     "text": [
      "Epoch: 2, Training Loss: 0.7509\n"
     ]
    },
    {
     "name": "stderr",
     "output_type": "stream",
     "text": [
      "100%|█████████████████████████████████████████████████████████████████████████████████| 2/2 [00:00<00:00,  3.82it/s]\n"
     ]
    },
    {
     "name": "stdout",
     "output_type": "stream",
     "text": [
      "Epoch: 3, Training Loss: 0.6148\n"
     ]
    },
    {
     "name": "stderr",
     "output_type": "stream",
     "text": [
      "100%|█████████████████████████████████████████████████████████████████████████████████| 2/2 [00:00<00:00,  3.22it/s]\n"
     ]
    },
    {
     "name": "stdout",
     "output_type": "stream",
     "text": [
      "Epoch: 4, Training Loss: 0.5972\n"
     ]
    },
    {
     "name": "stderr",
     "output_type": "stream",
     "text": [
      "100%|█████████████████████████████████████████████████████████████████████████████████| 2/2 [00:00<00:00,  3.03it/s]\n"
     ]
    },
    {
     "name": "stdout",
     "output_type": "stream",
     "text": [
      "Epoch: 5, Training Loss: 0.5961\n"
     ]
    },
    {
     "name": "stderr",
     "output_type": "stream",
     "text": [
      "100%|█████████████████████████████████████████████████████████████████████████████████| 2/2 [00:00<00:00,  3.27it/s]\n"
     ]
    },
    {
     "name": "stdout",
     "output_type": "stream",
     "text": [
      "Epoch: 6, Training Loss: 0.5892\n"
     ]
    },
    {
     "name": "stderr",
     "output_type": "stream",
     "text": [
      "100%|█████████████████████████████████████████████████████████████████████████████████| 2/2 [00:00<00:00,  3.54it/s]\n"
     ]
    },
    {
     "name": "stdout",
     "output_type": "stream",
     "text": [
      "Epoch: 7, Training Loss: 0.5961\n"
     ]
    },
    {
     "name": "stderr",
     "output_type": "stream",
     "text": [
      "100%|█████████████████████████████████████████████████████████████████████████████████| 2/2 [00:00<00:00,  2.94it/s]\n"
     ]
    },
    {
     "name": "stdout",
     "output_type": "stream",
     "text": [
      "Epoch: 8, Training Loss: 0.5614\n"
     ]
    },
    {
     "name": "stderr",
     "output_type": "stream",
     "text": [
      "100%|█████████████████████████████████████████████████████████████████████████████████| 2/2 [00:00<00:00,  3.39it/s]\n"
     ]
    },
    {
     "name": "stdout",
     "output_type": "stream",
     "text": [
      "Epoch: 9, Training Loss: 0.5892\n"
     ]
    },
    {
     "name": "stderr",
     "output_type": "stream",
     "text": [
      "100%|█████████████████████████████████████████████████████████████████████████████████| 2/2 [00:00<00:00,  3.46it/s]\n"
     ]
    },
    {
     "name": "stdout",
     "output_type": "stream",
     "text": [
      "Epoch: 10, Training Loss: 0.5961\n"
     ]
    }
   ],
   "source": [
    "for epoch in range(1, epochs + 1):\n",
    "    running_loss = 0.0\n",
    "    running_corrects = 0\n",
    "    model.train() # turn on training mode\n",
    "    for x, y in tqdm.tqdm(train_dl): # thanks to our wrapper, we can intuitively iterate over our data!\n",
    "        opt.zero_grad()\n",
    "        preds = model(x)\n",
    "        loss = loss_func(preds, y)\n",
    "        loss.backward()\n",
    "        opt.step()\n",
    "        \n",
    "        running_loss += loss.data.item() * x.size(0)\n",
    "        losses.append(loss.item())\n",
    "    epoch_loss = running_loss / len(trn)\n",
    "    \n",
    "    # calculate the validation loss for this epoch\n",
    "    print('Epoch: {}, Training Loss: {:.4f}'.format(epoch, epoch_loss))"
   ]
  },
  {
   "cell_type": "code",
   "execution_count": 319,
   "metadata": {},
   "outputs": [
    {
     "data": {
      "text/plain": [
       "[<matplotlib.lines.Line2D at 0x1acc9314d68>]"
      ]
     },
     "execution_count": 319,
     "metadata": {},
     "output_type": "execute_result"
    },
    {
     "data": {
      "image/png": "[encoded data removed]",
      "text/plain": [
       "<Figure size 432x288 with 1 Axes>"
      ]
     },
     "metadata": {
      "needs_background": "light"
     },
     "output_type": "display_data"
    }
   ],
   "source": [
    "import matplotlib.pyplot as plt\n",
    "\n",
    "%matplotlib inline\n",
    "plt.plot(losses)"
   ]
  },
  {
   "cell_type": "code",
   "execution_count": null,
   "metadata": {},
   "outputs": [],
   "source": []
  },
  {
   "cell_type": "code",
   "execution_count": null,
   "metadata": {},
   "outputs": [],
   "source": []
  }
 ],
 "metadata": {
  "kernelspec": {
   "display_name": "Python 3",
   "language": "python",
   "name": "python3"
  },
  "language_info": {
   "codemirror_mode": {
    "name": "ipython",
    "version": 3
   },
   "file_extension": ".py",
   "mimetype": "text/x-python",
   "name": "python",
   "nbconvert_exporter": "python",
   "pygments_lexer": "ipython3",
   "version": "3.7.1"
  }
 },
 "nbformat": 4,
 "nbformat_minor": 2
}
