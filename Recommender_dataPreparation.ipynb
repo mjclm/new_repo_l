{
 "cells": [
  {
   "cell_type": "markdown",
   "metadata": {
    "toc-hr-collapsed": false
   },
   "source": [
    "# Import "
   ]
  },
  {
   "cell_type": "code",
   "execution_count": 1,
   "metadata": {},
   "outputs": [],
   "source": [
    "import sys, os\n",
    "import json\n",
    "import time\n",
    "import math"
   ]
  },
  {
   "cell_type": "code",
   "execution_count": 2,
   "metadata": {},
   "outputs": [],
   "source": [
    "import pandas as pd\n",
    "import numpy as np"
   ]
  },
  {
   "cell_type": "code",
   "execution_count": 3,
   "metadata": {},
   "outputs": [],
   "source": [
    "from PIL import Image\n",
    "from gensim.models import Word2Vec\n",
    "import spacy"
   ]
  },
  {
   "cell_type": "code",
   "execution_count": 4,
   "metadata": {},
   "outputs": [],
   "source": [
    "import torch\n",
    "from torch.utils.data import Dataset\n",
    "from torch.utils.data import DataLoader\n",
    "from torch.autograd import Variable\n",
    "import torch.nn as nn\n",
    "import torch.nn.functional as F\n",
    "import torch.optim as optim\n",
    "from torch.utils.data.dataset import random_split"
   ]
  },
  {
   "cell_type": "code",
   "execution_count": 41,
   "metadata": {},
   "outputs": [],
   "source": [
    "import matplotlib.pyplot as plt\n",
    "%matplotlib inline"
   ]
  },
  {
   "cell_type": "code",
   "execution_count": 6,
   "metadata": {},
   "outputs": [],
   "source": [
    "sys.path.append('../script')"
   ]
  },
  {
   "cell_type": "code",
   "execution_count": 7,
   "metadata": {},
   "outputs": [],
   "source": [
    "from img2vec import Img2Vec"
   ]
  },
  {
   "cell_type": "markdown",
   "metadata": {
    "toc-hr-collapsed": false
   },
   "source": [
    "# Functions"
   ]
  },
  {
   "cell_type": "code",
   "execution_count": 8,
   "metadata": {},
   "outputs": [],
   "source": [
    "def timeSince(since):\n",
    "    now = time.time()\n",
    "    s = now - since\n",
    "    m = math.floor(s / 60)\n",
    "    s -= m * 60\n",
    "    return '%dm %ds' % (m, s)"
   ]
  },
  {
   "cell_type": "code",
   "execution_count": 9,
   "metadata": {},
   "outputs": [],
   "source": [
    "def to_onehot(labels, n_categories, dtype=torch.float32):\n",
    "    batch_size = len(labels)\n",
    "    one_hot_labels = torch.zeros(size=(batch_size, n_categories), dtype=dtype)\n",
    "    for i, label in enumerate(labels):\n",
    "        # Subtract 1 from each LongTensor because your\n",
    "        # indexing starts at 1 and tensor indexing starts at 0\n",
    "        label = torch.LongTensor(label)\n",
    "        one_hot_labels[i] = one_hot_labels[i].scatter_(dim=0, index=label, value=1.)\n",
    "    return one_hot_labels"
   ]
  },
  {
   "cell_type": "markdown",
   "metadata": {
    "toc-hr-collapsed": true
   },
   "source": [
    "# Prepare Data"
   ]
  },
  {
   "cell_type": "code",
   "execution_count": 10,
   "metadata": {},
   "outputs": [],
   "source": [
    "DATA_FOLDER = '../data'\n",
    "FILE = 'train.csv'\n",
    "DATA_PATH = '../data/ml-latest-small'\n",
    "IMAGE_PATH ='../data/image'"
   ]
  },
  {
   "cell_type": "code",
   "execution_count": 11,
   "metadata": {},
   "outputs": [],
   "source": [
    "with open('../data/description.txt', 'r') as file:\n",
    "     exDict = json.load(file)"
   ]
  },
  {
   "cell_type": "code",
   "execution_count": 12,
   "metadata": {},
   "outputs": [],
   "source": [
    "text = exDict['Description']"
   ]
  },
  {
   "cell_type": "code",
   "execution_count": 13,
   "metadata": {},
   "outputs": [],
   "source": [
    "movies_df = pd.read_csv(os.path.join(DATA_PATH, 'movies.csv'))"
   ]
  },
  {
   "cell_type": "code",
   "execution_count": 14,
   "metadata": {},
   "outputs": [],
   "source": [
    "ratings_df = pd.read_csv(os.path.join(DATA_PATH, 'ratings.csv')).query(\"rating >= 3\").drop(columns=['rating', 'timestamp'])"
   ]
  },
  {
   "cell_type": "code",
   "execution_count": 15,
   "metadata": {},
   "outputs": [],
   "source": [
    "links_df = pd.read_csv(os.path.join(DATA_PATH, 'links.csv'))"
   ]
  },
  {
   "cell_type": "code",
   "execution_count": 16,
   "metadata": {},
   "outputs": [],
   "source": [
    "n = links_df.shape[0]"
   ]
  },
  {
   "cell_type": "code",
   "execution_count": 17,
   "metadata": {},
   "outputs": [],
   "source": [
    "imdb2id = {str(links_df.imdbId[i]): links_df.movieId[i] for i in range(n)}\n",
    "id2imdb = {links_df.movieId[i]: str(links_df.imdbId[i]) for i in range(n)}"
   ]
  },
  {
   "cell_type": "code",
   "execution_count": 18,
   "metadata": {},
   "outputs": [],
   "source": [
    "idtxt = list(text)\n",
    "idtxt = [imdb2id[i] for i in idtxt if text[i] != '']"
   ]
  },
  {
   "cell_type": "code",
   "execution_count": 19,
   "metadata": {},
   "outputs": [],
   "source": [
    "idimg = [imdb2id[i.replace('.jpeg', '')] for i in os.listdir(IMAGE_PATH)]"
   ]
  },
  {
   "cell_type": "code",
   "execution_count": 20,
   "metadata": {},
   "outputs": [],
   "source": [
    "m_id = set((ratings_df.movieId.value_counts()[ratings_df.movieId.value_counts() > 10]).index)\n",
    "u_id = set((ratings_df.userId.value_counts()[ratings_df.userId.value_counts() > 10]).index)\n",
    "ratings_df.query(\"movieId in @m_id & userId in @u_id & movieId in @idtxt & movieId in @idimg\", inplace=True)"
   ]
  },
  {
   "cell_type": "code",
   "execution_count": 21,
   "metadata": {},
   "outputs": [],
   "source": [
    "movie_list = [id2imdb[m] for m in ratings_df.movieId.unique()]"
   ]
  },
  {
   "cell_type": "code",
   "execution_count": 22,
   "metadata": {},
   "outputs": [],
   "source": [
    "nlp = spacy.load(\"en_core_web_sm\")\n",
    "spacy_sw = spacy.lang.en.stop_words.STOP_WORDS\n",
    "\n",
    "def fct(doc):\n",
    "    return ' '.join([w.lemma_ for w in doc \n",
    "            if w.lemma_ not in spacy_sw and \n",
    "            not w.is_punct and \n",
    "            w.tag_ != 'VBN'\n",
    "           ])\n",
    "\n",
    "def create_weight(text):\n",
    "    desc = list(text)\n",
    "    desc = [d \n",
    "            if type(d) is not np.float \n",
    "            else 'Nothing' \n",
    "            for d in desc]\n",
    "    docs = nlp.pipe(desc)\n",
    "    split_d = [fct(doc).split() for doc in docs]\n",
    "    model_emb_w = Word2Vec(split_d, min_count=10, size=64)\n",
    "    weights = torch.FloatTensor(model_emb_w.wv.vectors)\n",
    "    weights = torch.cat((weights, weights.mean(0, keepdim=True)), dim=0)\n",
    "    return weights, model_emb_w, split_d"
   ]
  },
  {
   "cell_type": "code",
   "execution_count": 23,
   "metadata": {},
   "outputs": [],
   "source": [
    "npt = [text[i] for i in list(text) if i in movie_list]\n",
    "weights, model_emb_w, split_d = create_weight(npt)"
   ]
  },
  {
   "cell_type": "code",
   "execution_count": 24,
   "metadata": {},
   "outputs": [],
   "source": [
    "vocab = list(model_emb_w.wv.vocab)"
   ]
  },
  {
   "cell_type": "code",
   "execution_count": 25,
   "metadata": {},
   "outputs": [],
   "source": [
    "word2id = [torch.LongTensor([vocab.index(w) for w in s if w in vocab]) for s in split_d]\n",
    "# the final term is for padding\n",
    "pad_int = len(vocab)\n",
    "# padding the input (put this in dataloader)\n",
    "word2id_pad = torch.nn.utils.rnn.pad_sequence(word2id, padding_value=pad_int, batch_first=True)"
   ]
  },
  {
   "cell_type": "code",
   "execution_count": 26,
   "metadata": {},
   "outputs": [
    {
     "name": "stderr",
     "output_type": "stream",
     "text": [
      "Downloading: \"https://download.pytorch.org/models/resnet101-5d3b4d8f.pth\" to C:\\Users\\micka/.cache\\torch\\checkpoints\\resnet101-5d3b4d8f.pth\n",
      "100%|███████████████████████████████████████████████████████████████████████████████| 170M/170M [02:37<00:00, 1.14MB/s]\n"
     ]
    }
   ],
   "source": [
    "resnet_features = Img2Vec()"
   ]
  },
  {
   "cell_type": "code",
   "execution_count": 27,
   "metadata": {},
   "outputs": [],
   "source": [
    "vect_img = []\n",
    "for i in movie_list:\n",
    "    file = i + '.jpeg'\n",
    "    img = Image.open(os.path.join(IMAGE_PATH, file))\n",
    "    if img.mode == 'L':\n",
    "        img = img.convert('RGB')\n",
    "    vec = resnet_features.get_vec(img)\n",
    "    vect_img.append(vec)"
   ]
  },
  {
   "cell_type": "code",
   "execution_count": 28,
   "metadata": {},
   "outputs": [],
   "source": [
    "matrix_img = np.stack(vect_img, axis=0)"
   ]
  },
  {
   "cell_type": "code",
   "execution_count": 29,
   "metadata": {},
   "outputs": [],
   "source": [
    "tensor_img = torch.Tensor(matrix_img)"
   ]
  },
  {
   "cell_type": "code",
   "execution_count": 30,
   "metadata": {},
   "outputs": [],
   "source": [
    "ratings_df['movieId'] = ratings_df.movieId.apply(lambda x: movie_list.index(id2imdb[x]))"
   ]
  },
  {
   "cell_type": "code",
   "execution_count": 341,
   "metadata": {},
   "outputs": [],
   "source": [
    "def Neg_Sample(x):\n",
    "    line = (1  - x).nonzero()\n",
    "    line = line[torch.multinomial(torch.ones(line.size(0)), 15, True)].t()\n",
    "    return line"
   ]
  },
  {
   "cell_type": "code",
   "execution_count": 420,
   "metadata": {},
   "outputs": [],
   "source": [
    "class RecoDataset(Dataset):\n",
    "    def __init__(self, data, itemId, userId):\n",
    "        \n",
    "        self.itemId, self.userId = torch.LongTensor(data[itemId]), torch.LongTensor(data[userId])\n",
    "        self.n_user, self.n_item = len(self.userId.unique()), len(self.itemId.unique())\n",
    "        self.n = len(self.itemId)\n",
    "        list_item = data.groupby(userId).agg(list)[itemId]\n",
    "        ohe = to_onehot([list_item[u.item()] for u in self.userId], self.itemId.max() + 1, dtype=torch.float32)\n",
    "        self.neg_samp = torch.cat([self.Neg_Sample(ohe[i]) for i in range(self.n)])\n",
    "        \n",
    "    def Neg_Sample(self, x):\n",
    "        line = (1  - x).nonzero()\n",
    "        line = line[torch.multinomial(torch.ones(line.size(0)), 15, True)].t()\n",
    "        return line\n",
    "\n",
    "    def __len__(self):\n",
    "        return self.n\n",
    "        \n",
    "    def __getitem__(self, idx):\n",
    "        return (self.itemId[idx], self.userId[idx], self.neg_samp[idx])"
   ]
  },
  {
   "cell_type": "code",
   "execution_count": 421,
   "metadata": {},
   "outputs": [],
   "source": [
    "split= 0.8"
   ]
  },
  {
   "cell_type": "code",
   "execution_count": 422,
   "metadata": {},
   "outputs": [],
   "source": [
    "dataset = RecoDataset(ratings_df, 'movieId', 'userId')\n",
    "lengths = [int(dataset.__len__() * split), int(dataset.__len__() * (1-split)) + 1]\n",
    "lengths = lengths if sum(lengths) == dataset.__len__() else [lengths[0], lengths[1] - 1]\n",
    "train_data, test_data = random_split(dataset, lengths)\n",
    "train_loader = DataLoader(train_data, batch_size=64, shuffle=True)\n",
    "test_loader = DataLoader(test_data, batch_size=64, shuffle=True)"
   ]
  },
  {
   "cell_type": "markdown",
   "metadata": {
    "toc-hr-collapsed": false
   },
   "source": [
    "# Algo"
   ]
  },
  {
   "cell_type": "code",
   "execution_count": 423,
   "metadata": {},
   "outputs": [],
   "source": [
    "class Reco(nn.Module):\n",
    "    \n",
    "    def __init__(self, nItem, nUser, dim):\n",
    "        super(Reco, self).__init__()\n",
    "\n",
    "        ## GMF\n",
    "        self.embedding_user_gmf = torch.nn.Embedding(num_embeddings=nUser, embedding_dim=dim)\n",
    "        self.embedding_item_gmf = torch.nn.Embedding(num_embeddings=nItem, embedding_dim=dim)      \n",
    "        ## MLP\n",
    "        self.embedding_user_mlp = torch.nn.Embedding(num_embeddings=nUser, embedding_dim=dim)\n",
    "        self.embedding_item_mlp = torch.nn.Embedding(num_embeddings=nItem, embedding_dim=dim)\n",
    "        self.nnItem = nn.Sequential(\n",
    "            nn.Linear(dim, 32),\n",
    "            nn.ReLU(),\n",
    "            nn.Linear(32, 16),\n",
    "            nn.ReLU()\n",
    "        )\n",
    "        self.nnUser = nn.Sequential(\n",
    "            nn.Linear(dim, 32),\n",
    "            nn.ReLU(),\n",
    "            nn.Linear(32, 16),\n",
    "            nn.ReLU()\n",
    "        )\n",
    "        self.nnFusion = nn.Sequential(\n",
    "            nn.Linear(32, 16),\n",
    "            nn.ReLU(),\n",
    "            nn.Linear(16, dim),\n",
    "        )\n",
    "\n",
    "        # text\n",
    "        self.embedding = nn.Embedding.from_pretrained(weights)\n",
    "        self.fctxt = nn.Sequential(\n",
    "            nn.Linear(64, 32),\n",
    "            nn.ReLU(),\n",
    "            nn.Linear(32, dim)\n",
    "        )\n",
    "        \n",
    "        # image\n",
    "        self.fcimg = nn.Sequential(\n",
    "            nn.Linear(2048, 512),\n",
    "            nn.ReLU(),\n",
    "            nn.Linear(512, dim)\n",
    "        )\n",
    "        \n",
    "        # total\n",
    "        self.affine_output = nn.Sequential(\n",
    "            nn.Linear(dim*4, 64),\n",
    "            nn.ReLU(),\n",
    "            nn.Linear(64, out_features=1) #out_features=nItem)\n",
    "        )\n",
    "        \n",
    "    def forward(self, item, user, d, img):\n",
    "        # GMF\n",
    "        user_embedding_gmf = self.embedding_user_gmf(user)\n",
    "        item_embedding_gmf = self.embedding_item_gmf(item)        \n",
    "        x_gmf = torch.mul(user_embedding_gmf, item_embedding_gmf)\n",
    "        # MLP\n",
    "        user_embedding_mlp = self.embedding_user_mlp(user)\n",
    "        item_embedding_mlp = self.embedding_item_mlp(item)\n",
    "        x1 = self.nnItem(item_embedding_mlp)\n",
    "        x2 = self.nnUser(user_embedding_mlp)\n",
    "        x_mlp = torch.cat((x1, x2), dim=1)\n",
    "        x_mlp = self.nnFusion(x_mlp)     \n",
    "        # text layers\n",
    "        d = self.embedding(d)\n",
    "        d = d.mean(dim=1)\n",
    "        d = self.fctxt(d)\n",
    "        # image layers\n",
    "        i = self.fcimg(img)\n",
    "        # concat the three layer\n",
    "        vector = torch.cat((x_mlp, x_gmf, d, i), dim=1)   \n",
    "        x = self.affine_output(vector)  \n",
    "        return x"
   ]
  },
  {
   "cell_type": "code",
   "execution_count": 424,
   "metadata": {},
   "outputs": [],
   "source": [
    "R = Reco(ratings_df.movieId.max()+1, ratings_df.userId.max()+1, 64)"
   ]
  },
  {
   "cell_type": "code",
   "execution_count": 425,
   "metadata": {},
   "outputs": [],
   "source": [
    "criterion = torch.nn.BCEWithLogitsLoss()\n",
    "optimizer = optim.Adam(R.parameters(), lr=0.0001)"
   ]
  },
  {
   "cell_type": "code",
   "execution_count": 426,
   "metadata": {},
   "outputs": [],
   "source": [
    "all_losses = []\n",
    "batches = 0"
   ]
  },
  {
   "cell_type": "code",
   "execution_count": 427,
   "metadata": {},
   "outputs": [
    {
     "name": "stdout",
     "output_type": "stream",
     "text": [
      "0m 0s, 0 0 1.2061\n",
      "1m 48s, 1 588 1.0359\n",
      "3m 38s, 2 1176 1.0117\n",
      "5m 28s, 3 1764 1.0804\n",
      "Finished Training\n"
     ]
    }
   ],
   "source": [
    "start = time.time()\n",
    "\n",
    "for epoch in range(4):  # loop over the dataset multiple times\n",
    "\n",
    "    for i, data in enumerate(train_loader):\n",
    "        # get the inputs; data is a list of [inputs, labels]\n",
    "        items, users, neg_samp = data\n",
    "        img, d = tensor_img[items], word2id_pad[items]\n",
    "        \n",
    "        batch_size = items.size(0)\n",
    "\n",
    "        pos_target = torch.ones(batch_size, 1)\n",
    "        neg_target = torch.zeros(batch_size, 1)\n",
    "        # zero the parameter gradients\n",
    "        optimizer.zero_grad()\n",
    "\n",
    "        # forward + backward + optimize\n",
    "        outputs_pos = R(items, users, d, img)\n",
    "        loss_neg = torch.tensor([0.])\n",
    "        \n",
    "        for i_neg in neg_samp.t():\n",
    "            img_neg, d_neg = tensor_img[i_neg], word2id_pad[i_neg]\n",
    "            outputs_neg = R(i_neg, users, d_neg, img_neg)\n",
    "            loss_neg += criterion(outputs_neg, neg_target)\n",
    "            \n",
    "        loss = (2* criterion(outputs_pos, pos_target) + loss_neg / 10)/2\n",
    "        loss.backward()\n",
    "        optimizer.step()\n",
    "\n",
    "        # print statistics\n",
    "        if i % 1000 == 0:\n",
    "            print('%s, %d %d %.4f' % (timeSince(start), epoch, batches, loss))\n",
    "        all_losses.append(loss.item())\n",
    "        batches += 1\n",
    "\n",
    "print('Finished Training')"
   ]
  },
  {
   "cell_type": "code",
   "execution_count": 429,
   "metadata": {},
   "outputs": [
    {
     "data": {
      "text/plain": [
       "[<matplotlib.lines.Line2D at 0x22b0c2af9e8>]"
      ]
     },
     "execution_count": 429,
     "metadata": {},
     "output_type": "execute_result"
    },
    {
     "data": {
      "image/png": "[encoded data removed]",
      "text/plain": [
       "<Figure size 432x288 with 1 Axes>"
      ]
     },
     "metadata": {
      "needs_background": "light"
     },
     "output_type": "display_data"
    }
   ],
   "source": [
    "plt.figure()\n",
    "plt.plot(all_losses)"
   ]
  },
  {
   "cell_type": "markdown",
   "metadata": {
    "toc-hr-collapsed": true
   },
   "source": [
    "# Evaluation"
   ]
  },
  {
   "cell_type": "code",
   "execution_count": 430,
   "metadata": {},
   "outputs": [],
   "source": [
    "correct = 0\n",
    "correct_neg = 0\n",
    "correct_pos = 0\n",
    "total = 0\n",
    "with torch.no_grad():\n",
    "    for data in test_loader:\n",
    "        items, users, neg_samp = data\n",
    "        img, d = tensor_img[items], word2id_pad[items]\n",
    "        batch_size = items.size(0)\n",
    "        pos_target = torch.ones(batch_size, 1)\n",
    "        neg_target = torch.zeros(batch_size, 1)\n",
    "        outputs_pos = R(items, users, d, img)\n",
    "        loss_neg = torch.tensor([0.])\n",
    "        for i_neg in neg_samp.t():\n",
    "            img_neg, d_neg = tensor_img[i_neg], word2id_pad[i_neg]\n",
    "            outputs_neg = R(i_neg, users, d, img_neg)\n",
    "            loss_neg += criterion(outputs_neg, neg_target)\n",
    "            \n",
    "        total += pos_target.size(0)\n",
    "        correct_pos += criterion(outputs_pos, pos_target).item()\n",
    "        correct_neg += (loss_neg / 15.).item()"
   ]
  },
  {
   "cell_type": "code",
   "execution_count": 431,
   "metadata": {},
   "outputs": [
    {
     "data": {
      "text/plain": [
       "0.009604730302821834"
      ]
     },
     "execution_count": 431,
     "metadata": {},
     "output_type": "execute_result"
    }
   ],
   "source": [
    "(correct_pos + correct_neg) / (total*2)"
   ]
  },
  {
   "cell_type": "code",
   "execution_count": 432,
   "metadata": {},
   "outputs": [
    {
     "data": {
      "text/plain": [
       "(0.011781451650094707, 0.007428008955548963)"
      ]
     },
     "execution_count": 432,
     "metadata": {},
     "output_type": "execute_result"
    }
   ],
   "source": [
    "correct_neg / total, correct_pos / total"
   ]
  },
  {
   "cell_type": "code",
   "execution_count": 433,
   "metadata": {},
   "outputs": [],
   "source": [
    "args = (test_data.dataset.itemId[test_data.indices], \n",
    "        test_data.dataset.userId[test_data.indices], \n",
    "        word2id_pad[test_data.dataset.itemId[test_data.indices]],\n",
    "        tensor_img[test_data.dataset.itemId[test_data.indices]],  \n",
    "       )\n",
    "n = test_data.dataset.n"
   ]
  },
  {
   "cell_type": "code",
   "execution_count": 434,
   "metadata": {},
   "outputs": [
    {
     "data": {
      "text/plain": [
       "0.7413517828632251"
      ]
     },
     "execution_count": 434,
     "metadata": {},
     "output_type": "execute_result"
    }
   ],
   "source": [
    "sum((nn.Sigmoid()(R(*args))).round()).item() / total"
   ]
  },
  {
   "cell_type": "markdown",
   "metadata": {
    "toc-hr-collapsed": true
   },
   "source": [
    "# Recommendation"
   ]
  },
  {
   "cell_type": "code",
   "execution_count": 435,
   "metadata": {},
   "outputs": [],
   "source": [
    "def reco(user):\n",
    "    movieid_list = list(ratings_df.movieId.unique())\n",
    "    movieid_user_list = list(ratings_df[ratings_df.userId == user].movieId)\n",
    "    items = torch.Tensor([m for m in movieid_list if m not in movieid_user_list]).long()\n",
    "    size = items.shape[0]\n",
    "    args_reco = (items, \n",
    "        torch.ones(size).long(), \n",
    "        word2id_pad[items],\n",
    "        tensor_img[items],  \n",
    "       )\n",
    "    return nn.Sigmoid()(R(*args_reco))"
   ]
  },
  {
   "cell_type": "code",
   "execution_count": 436,
   "metadata": {},
   "outputs": [],
   "source": [
    "pd.options.mode.chained_assignment = None"
   ]
  },
  {
   "cell_type": "code",
   "execution_count": 437,
   "metadata": {},
   "outputs": [],
   "source": [
    "user = 63\n",
    "n_reco = 10\n",
    "reco_user = reco(user)\n",
    "reco_top = torch.argsort(reco_user, dim=0, descending=True)[:n_reco].view(n_reco)\n",
    "score_reco = torch.sort(reco_user, dim=0, descending=True)[0][:n_reco].view(n_reco)\n",
    "set_reco = [imdb2id[movie_list[i]] for i in reco_top]\n",
    "a = movies_df.query(\"movieId in @set_reco\")\n",
    "a['score'] = score_reco.detach().numpy()\n",
    "set_u = [imdb2id[movie_list[i]] for i in list(ratings_df[ratings_df.userId == user].movieId)]\n",
    "u_movies = movies_df.query(\"movieId in @set_u\")"
   ]
  },
  {
   "cell_type": "code",
   "execution_count": 438,
   "metadata": {},
   "outputs": [
    {
     "data": {
      "text/html": [
       "<div>\n",
       "<style scoped>\n",
       "    .dataframe tbody tr th:only-of-type {\n",
       "        vertical-align: middle;\n",
       "    }\n",
       "\n",
       "    .dataframe tbody tr th {\n",
       "        vertical-align: top;\n",
       "    }\n",
       "\n",
       "    .dataframe thead th {\n",
       "        text-align: right;\n",
       "    }\n",
       "</style>\n",
       "<table border=\"1\" class=\"dataframe\">\n",
       "  <thead>\n",
       "    <tr style=\"text-align: right;\">\n",
       "      <th></th>\n",
       "      <th>movieId</th>\n",
       "      <th>title</th>\n",
       "      <th>genres</th>\n",
       "    </tr>\n",
       "  </thead>\n",
       "  <tbody>\n",
       "    <tr>\n",
       "      <th>7039</th>\n",
       "      <td>68954</td>\n",
       "      <td>Up (2009)</td>\n",
       "      <td>Adventure|Animation|Children|Drama</td>\n",
       "    </tr>\n",
       "    <tr>\n",
       "      <th>257</th>\n",
       "      <td>296</td>\n",
       "      <td>Pulp Fiction (1994)</td>\n",
       "      <td>Comedy|Crime|Drama|Thriller</td>\n",
       "    </tr>\n",
       "    <tr>\n",
       "      <th>1158</th>\n",
       "      <td>1527</td>\n",
       "      <td>Fifth Element, The (1997)</td>\n",
       "      <td>Action|Adventure|Comedy|Sci-Fi</td>\n",
       "    </tr>\n",
       "    <tr>\n",
       "      <th>0</th>\n",
       "      <td>1</td>\n",
       "      <td>Toy Story (1995)</td>\n",
       "      <td>Adventure|Animation|Children|Comedy|Fantasy</td>\n",
       "    </tr>\n",
       "    <tr>\n",
       "      <th>8395</th>\n",
       "      <td>110102</td>\n",
       "      <td>Captain America: The Winter Soldier (2014)</td>\n",
       "      <td>Action|Adventure|Sci-Fi|IMAX</td>\n",
       "    </tr>\n",
       "    <tr>\n",
       "      <th>1284</th>\n",
       "      <td>1704</td>\n",
       "      <td>Good Will Hunting (1997)</td>\n",
       "      <td>Drama|Romance</td>\n",
       "    </tr>\n",
       "    <tr>\n",
       "      <th>520</th>\n",
       "      <td>608</td>\n",
       "      <td>Fargo (1996)</td>\n",
       "      <td>Comedy|Crime|Drama|Thriller</td>\n",
       "    </tr>\n",
       "    <tr>\n",
       "      <th>7323</th>\n",
       "      <td>77455</td>\n",
       "      <td>Exit Through the Gift Shop (2010)</td>\n",
       "      <td>Comedy|Documentary</td>\n",
       "    </tr>\n",
       "    <tr>\n",
       "      <th>43</th>\n",
       "      <td>47</td>\n",
       "      <td>Seven (a.k.a. Se7en) (1995)</td>\n",
       "      <td>Mystery|Thriller</td>\n",
       "    </tr>\n",
       "    <tr>\n",
       "      <th>5161</th>\n",
       "      <td>8361</td>\n",
       "      <td>Day After Tomorrow, The (2004)</td>\n",
       "      <td>Action|Adventure|Drama|Sci-Fi|Thriller</td>\n",
       "    </tr>\n",
       "  </tbody>\n",
       "</table>\n",
       "</div>"
      ],
      "text/plain": [
       "      movieId                                       title  \\\n",
       "7039    68954                                   Up (2009)   \n",
       "257       296                         Pulp Fiction (1994)   \n",
       "1158     1527                   Fifth Element, The (1997)   \n",
       "0           1                            Toy Story (1995)   \n",
       "8395   110102  Captain America: The Winter Soldier (2014)   \n",
       "1284     1704                    Good Will Hunting (1997)   \n",
       "520       608                                Fargo (1996)   \n",
       "7323    77455           Exit Through the Gift Shop (2010)   \n",
       "43         47                 Seven (a.k.a. Se7en) (1995)   \n",
       "5161     8361              Day After Tomorrow, The (2004)   \n",
       "\n",
       "                                           genres  \n",
       "7039           Adventure|Animation|Children|Drama  \n",
       "257                   Comedy|Crime|Drama|Thriller  \n",
       "1158               Action|Adventure|Comedy|Sci-Fi  \n",
       "0     Adventure|Animation|Children|Comedy|Fantasy  \n",
       "8395                 Action|Adventure|Sci-Fi|IMAX  \n",
       "1284                                Drama|Romance  \n",
       "520                   Comedy|Crime|Drama|Thriller  \n",
       "7323                           Comedy|Documentary  \n",
       "43                               Mystery|Thriller  \n",
       "5161       Action|Adventure|Drama|Sci-Fi|Thriller  "
      ]
     },
     "execution_count": 438,
     "metadata": {},
     "output_type": "execute_result"
    }
   ],
   "source": [
    "u_movies.sample(10)"
   ]
  },
  {
   "cell_type": "code",
   "execution_count": 439,
   "metadata": {},
   "outputs": [
    {
     "data": {
      "text/html": [
       "<div>\n",
       "<style scoped>\n",
       "    .dataframe tbody tr th:only-of-type {\n",
       "        vertical-align: middle;\n",
       "    }\n",
       "\n",
       "    .dataframe tbody tr th {\n",
       "        vertical-align: top;\n",
       "    }\n",
       "\n",
       "    .dataframe thead th {\n",
       "        text-align: right;\n",
       "    }\n",
       "</style>\n",
       "<table border=\"1\" class=\"dataframe\">\n",
       "  <thead>\n",
       "    <tr style=\"text-align: right;\">\n",
       "      <th></th>\n",
       "      <th>movieId</th>\n",
       "      <th>title</th>\n",
       "      <th>genres</th>\n",
       "      <th>score</th>\n",
       "    </tr>\n",
       "  </thead>\n",
       "  <tbody>\n",
       "    <tr>\n",
       "      <th>291</th>\n",
       "      <td>333</td>\n",
       "      <td>Tommy Boy (1995)</td>\n",
       "      <td>Comedy</td>\n",
       "      <td>0.911164</td>\n",
       "    </tr>\n",
       "    <tr>\n",
       "      <th>325</th>\n",
       "      <td>367</td>\n",
       "      <td>Mask, The (1994)</td>\n",
       "      <td>Action|Comedy|Crime|Fantasy</td>\n",
       "      <td>0.906995</td>\n",
       "    </tr>\n",
       "    <tr>\n",
       "      <th>1187</th>\n",
       "      <td>1584</td>\n",
       "      <td>Contact (1997)</td>\n",
       "      <td>Drama|Sci-Fi</td>\n",
       "      <td>0.892476</td>\n",
       "    </tr>\n",
       "    <tr>\n",
       "      <th>115</th>\n",
       "      <td>140</td>\n",
       "      <td>Up Close and Personal (1996)</td>\n",
       "      <td>Drama|Romance</td>\n",
       "      <td>0.941544</td>\n",
       "    </tr>\n",
       "    <tr>\n",
       "      <th>5911</th>\n",
       "      <td>33679</td>\n",
       "      <td>Mr. &amp; Mrs. Smith (2005)</td>\n",
       "      <td>Action|Adventure|Comedy|Romance</td>\n",
       "      <td>0.876488</td>\n",
       "    </tr>\n",
       "    <tr>\n",
       "      <th>20</th>\n",
       "      <td>21</td>\n",
       "      <td>Get Shorty (1995)</td>\n",
       "      <td>Comedy|Crime|Thriller</td>\n",
       "      <td>0.961484</td>\n",
       "    </tr>\n",
       "    <tr>\n",
       "      <th>339</th>\n",
       "      <td>382</td>\n",
       "      <td>Wolf (1994)</td>\n",
       "      <td>Drama|Horror|Romance|Thriller</td>\n",
       "      <td>0.901444</td>\n",
       "    </tr>\n",
       "    <tr>\n",
       "      <th>116</th>\n",
       "      <td>141</td>\n",
       "      <td>Birdcage, The (1996)</td>\n",
       "      <td>Comedy</td>\n",
       "      <td>0.916009</td>\n",
       "    </tr>\n",
       "    <tr>\n",
       "      <th>46</th>\n",
       "      <td>50</td>\n",
       "      <td>Usual Suspects, The (1995)</td>\n",
       "      <td>Crime|Mystery|Thriller</td>\n",
       "      <td>0.961328</td>\n",
       "    </tr>\n",
       "    <tr>\n",
       "      <th>275</th>\n",
       "      <td>316</td>\n",
       "      <td>Stargate (1994)</td>\n",
       "      <td>Action|Adventure|Sci-Fi</td>\n",
       "      <td>0.915447</td>\n",
       "    </tr>\n",
       "  </tbody>\n",
       "</table>\n",
       "</div>"
      ],
      "text/plain": [
       "      movieId                         title                           genres  \\\n",
       "291       333              Tommy Boy (1995)                           Comedy   \n",
       "325       367              Mask, The (1994)      Action|Comedy|Crime|Fantasy   \n",
       "1187     1584                Contact (1997)                     Drama|Sci-Fi   \n",
       "115       140  Up Close and Personal (1996)                    Drama|Romance   \n",
       "5911    33679       Mr. & Mrs. Smith (2005)  Action|Adventure|Comedy|Romance   \n",
       "20         21             Get Shorty (1995)            Comedy|Crime|Thriller   \n",
       "339       382                   Wolf (1994)    Drama|Horror|Romance|Thriller   \n",
       "116       141          Birdcage, The (1996)                           Comedy   \n",
       "46         50    Usual Suspects, The (1995)           Crime|Mystery|Thriller   \n",
       "275       316               Stargate (1994)          Action|Adventure|Sci-Fi   \n",
       "\n",
       "         score  \n",
       "291   0.911164  \n",
       "325   0.906995  \n",
       "1187  0.892476  \n",
       "115   0.941544  \n",
       "5911  0.876488  \n",
       "20    0.961484  \n",
       "339   0.901444  \n",
       "116   0.916009  \n",
       "46    0.961328  \n",
       "275   0.915447  "
      ]
     },
     "execution_count": 439,
     "metadata": {},
     "output_type": "execute_result"
    }
   ],
   "source": [
    "a.sample(10)"
   ]
  },
  {
   "cell_type": "code",
   "execution_count": 440,
   "metadata": {},
   "outputs": [
    {
     "data": {
      "text/plain": [
       "Action         0.136634\n",
       "Adventure      0.114851\n",
       "Drama          0.112871\n",
       "Comedy         0.106931\n",
       "Thriller       0.100990\n",
       "Crime          0.075248\n",
       "Sci-Fi         0.069307\n",
       "Animation      0.049505\n",
       "Fantasy        0.045545\n",
       "Mystery        0.039604\n",
       "Children       0.035644\n",
       "Romance        0.035644\n",
       "IMAX           0.031683\n",
       "War            0.017822\n",
       "Musical        0.009901\n",
       "Horror         0.007921\n",
       "Documentary    0.005941\n",
       "Film-Noir      0.003960\n",
       "Name: genres, dtype: float64"
      ]
     },
     "execution_count": 440,
     "metadata": {},
     "output_type": "execute_result"
    }
   ],
   "source": [
    "u_movies.genres.apply(lambda x: x.split('|')).explode().value_counts(normalize=True)"
   ]
  },
  {
   "cell_type": "code",
   "execution_count": 441,
   "metadata": {},
   "outputs": [
    {
     "data": {
      "text/plain": [
       "Comedy       0.185185\n",
       "Action       0.111111\n",
       "Thriller     0.111111\n",
       "Drama        0.111111\n",
       "Romance      0.111111\n",
       "Crime        0.111111\n",
       "Sci-Fi       0.074074\n",
       "Adventure    0.074074\n",
       "Fantasy      0.037037\n",
       "Horror       0.037037\n",
       "Mystery      0.037037\n",
       "Name: genres, dtype: float64"
      ]
     },
     "execution_count": 441,
     "metadata": {},
     "output_type": "execute_result"
    }
   ],
   "source": [
    "a.genres.apply(lambda x: x.split('|')).explode().value_counts(normalize=True)"
   ]
  },
  {
   "cell_type": "code",
   "execution_count": 442,
   "metadata": {},
   "outputs": [
    {
     "data": {
      "text/plain": [
       "Comedy                             0.2\n",
       "Comedy|Crime|Thriller              0.1\n",
       "Drama|Horror|Romance|Thriller      0.1\n",
       "Drama|Romance                      0.1\n",
       "Action|Adventure|Sci-Fi            0.1\n",
       "Action|Comedy|Crime|Fantasy        0.1\n",
       "Crime|Mystery|Thriller             0.1\n",
       "Action|Adventure|Comedy|Romance    0.1\n",
       "Drama|Sci-Fi                       0.1\n",
       "Name: genres, dtype: float64"
      ]
     },
     "execution_count": 442,
     "metadata": {},
     "output_type": "execute_result"
    }
   ],
   "source": [
    "a.genres.value_counts(normalize=True)[:10]"
   ]
  },
  {
   "cell_type": "code",
   "execution_count": 443,
   "metadata": {},
   "outputs": [
    {
     "data": {
      "text/plain": [
       "Action|Adventure|Sci-Fi|IMAX     0.026316\n",
       "Action|Adventure|Sci-Fi          0.026316\n",
       "Drama|Romance                    0.026316\n",
       "Crime|Drama                      0.026316\n",
       "Action|Crime|Thriller            0.026316\n",
       "Action|Adventure|Thriller        0.026316\n",
       "Drama                            0.019737\n",
       "Comedy                           0.019737\n",
       "Comedy|Crime|Drama|Thriller      0.019737\n",
       "Drama|Mystery|Sci-Fi|Thriller    0.013158\n",
       "Name: genres, dtype: float64"
      ]
     },
     "execution_count": 443,
     "metadata": {},
     "output_type": "execute_result"
    }
   ],
   "source": [
    "u_movies.genres.value_counts(normalize=True)[:10]"
   ]
  },
  {
   "cell_type": "code",
   "execution_count": 444,
   "metadata": {},
   "outputs": [
    {
     "data": {
      "text/plain": [
       "(array([ 17.,  32.,  68., 116., 125., 119.,  85.,  87.,  65.,  58.,  65.,\n",
       "         49.,  36.,  38.,  22.,  32.,  25.,  22.,  21.,  14.,  13.,   4.,\n",
       "          4.,   5.,   3.]),\n",
       " array([0.18817565, 0.21910799, 0.25004032, 0.28097266, 0.31190497,\n",
       "        0.3428373 , 0.37376964, 0.40470198, 0.43563432, 0.46656665,\n",
       "        0.49749896, 0.5284313 , 0.55936366, 0.590296  , 0.6212283 ,\n",
       "        0.65216064, 0.68309295, 0.7140253 , 0.7449576 , 0.77588993,\n",
       "        0.8068223 , 0.8377546 , 0.868687  , 0.8996193 , 0.93055165,\n",
       "        0.96148396], dtype=float32),\n",
       " <a list of 25 Patch objects>)"
      ]
     },
     "execution_count": 444,
     "metadata": {},
     "output_type": "execute_result"
    },
    {
     "data": {
      "image/png": "[encoded data removed]",
      "text/plain": [
       "<Figure size 432x288 with 1 Axes>"
      ]
     },
     "metadata": {
      "needs_background": "light"
     },
     "output_type": "display_data"
    }
   ],
   "source": [
    "plt.hist(reco_user.detach().numpy()[:,0], bins=25)"
   ]
  },
  {
   "cell_type": "code",
   "execution_count": null,
   "metadata": {},
   "outputs": [],
   "source": []
  }
 ],
 "metadata": {
  "kernelspec": {
   "display_name": "data_science",
   "language": "python",
   "name": "data_science"
  },
  "language_info": {
   "codemirror_mode": {
    "name": "ipython",
    "version": 3
   },
   "file_extension": ".py",
   "mimetype": "text/x-python",
   "name": "python",
   "nbconvert_exporter": "python",
   "pygments_lexer": "ipython3",
   "version": "3.6.9"
  },
  "toc-autonumbering": false,
  "toc-showcode": false,
  "toc-showmarkdowntxt": true,
  "toc-showtags": false
 },
 "nbformat": 4,
 "nbformat_minor": 4
}
