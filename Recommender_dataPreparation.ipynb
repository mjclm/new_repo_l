{
 "cells": [
  {
   "cell_type": "code",
   "execution_count": 1,
   "metadata": {},
   "outputs": [],
   "source": [
    "import json\n",
    "import pandas as pd\n",
    "import os"
   ]
  },
  {
   "cell_type": "code",
   "execution_count": 2,
   "metadata": {},
   "outputs": [],
   "source": [
    "import torch\n",
    "from torch.utils.data import Dataset\n",
    "from torch.utils.data import DataLoader\n",
    "from torch.autograd import Variable\n",
    "import torch.nn as nn\n",
    "import torch.nn.functional as F\n",
    "import torch.optim as optim"
   ]
  },
  {
   "cell_type": "code",
   "execution_count": 3,
   "metadata": {},
   "outputs": [],
   "source": [
    "from torch.utils.data.dataset import random_split"
   ]
  },
  {
   "cell_type": "code",
   "execution_count": 4,
   "metadata": {},
   "outputs": [],
   "source": [
    "from time import sleep"
   ]
  },
  {
   "cell_type": "code",
   "execution_count": 5,
   "metadata": {},
   "outputs": [],
   "source": [
    "import matplotlib.pyplot as plt\n",
    "import matplotlib.ticker as ticker\n",
    "%matplotlib inline"
   ]
  },
  {
   "cell_type": "code",
   "execution_count": 6,
   "metadata": {},
   "outputs": [],
   "source": [
    "import time\n",
    "import math\n",
    "\n",
    "def timeSince(since):\n",
    "    now = time.time()\n",
    "    s = now - since\n",
    "    m = math.floor(s / 60)\n",
    "    s -= m * 60\n",
    "    return '%dm %ds' % (m, s)"
   ]
  },
  {
   "cell_type": "code",
   "execution_count": 7,
   "metadata": {},
   "outputs": [],
   "source": [
    "def to_onehot(labels, n_categories, dtype=torch.float32):\n",
    "    batch_size = len(labels)\n",
    "    one_hot_labels = torch.zeros(size=(batch_size, n_categories), dtype=dtype)\n",
    "    for i, label in enumerate(labels):\n",
    "        # Subtract 1 from each LongTensor because your\n",
    "        # indexing starts at 1 and tensor indexing starts at 0\n",
    "        label = torch.LongTensor(label)\n",
    "        one_hot_labels[i] = one_hot_labels[i].scatter_(dim=0, index=label, value=1.)\n",
    "    return one_hot_labels"
   ]
  },
  {
   "cell_type": "code",
   "execution_count": 8,
   "metadata": {},
   "outputs": [],
   "source": [
    "DATA_FOLDER = '../data'\n",
    "FILE = 'train.csv'\n",
    "DATA_PATH = '../data/ml-latest-small'\n",
    "IMAGE_PATH ='../data/image'"
   ]
  },
  {
   "cell_type": "code",
   "execution_count": 9,
   "metadata": {},
   "outputs": [],
   "source": [
    "with open('../data/description.txt', 'r') as file:\n",
    "     exDict = json.load(file)"
   ]
  },
  {
   "cell_type": "code",
   "execution_count": 10,
   "metadata": {},
   "outputs": [],
   "source": [
    "text = exDict['Description']"
   ]
  },
  {
   "cell_type": "code",
   "execution_count": 100,
   "metadata": {},
   "outputs": [],
   "source": [
    "movies_df = pd.read_csv(os.path.join(DATA_PATH, 'movies.csv'))"
   ]
  },
  {
   "cell_type": "code",
   "execution_count": 116,
   "metadata": {},
   "outputs": [],
   "source": [
    "ratings_df = pd.read_csv(os.path.join(DATA_PATH, 'ratings.csv')).query(\"rating >= 3\").drop(columns=['rating', 'timestamp'])"
   ]
  },
  {
   "cell_type": "code",
   "execution_count": 117,
   "metadata": {},
   "outputs": [],
   "source": [
    "links_df = pd.read_csv(os.path.join(DATA_PATH, 'links.csv'))"
   ]
  },
  {
   "cell_type": "code",
   "execution_count": 118,
   "metadata": {},
   "outputs": [],
   "source": [
    "n = links_df.shape[0]"
   ]
  },
  {
   "cell_type": "code",
   "execution_count": 119,
   "metadata": {},
   "outputs": [],
   "source": [
    "imdb2id = {str(links_df.imdbId[i]): links_df.movieId[i] for i in range(n)}\n",
    "id2imdb = {links_df.movieId[i]: str(links_df.imdbId[i]) for i in range(n)}"
   ]
  },
  {
   "cell_type": "code",
   "execution_count": 120,
   "metadata": {},
   "outputs": [],
   "source": [
    "idtxt = list(text)\n",
    "idtxt = [imdb2id[i] for i in idtxt if text[i] != '']"
   ]
  },
  {
   "cell_type": "code",
   "execution_count": 121,
   "metadata": {},
   "outputs": [],
   "source": [
    "idimg = [imdb2id[i.replace('.jpeg', '')] for i in os.listdir(IMAGE_PATH)]"
   ]
  },
  {
   "cell_type": "code",
   "execution_count": 122,
   "metadata": {},
   "outputs": [],
   "source": [
    "m_id = set((ratings_df.movieId.value_counts()[ratings_df.movieId.value_counts() > 10]).index)\n",
    "u_id = set((ratings_df.userId.value_counts()[ratings_df.userId.value_counts() > 10]).index)\n",
    "ratings_df.query(\"movieId in @m_id & userId in @u_id & movieId in @idtxt & movieId in @idimg\", inplace=True)"
   ]
  },
  {
   "cell_type": "code",
   "execution_count": 123,
   "metadata": {},
   "outputs": [],
   "source": [
    "movie_list = [id2imdb[m] for m in ratings_df.movieId.unique()]"
   ]
  },
  {
   "cell_type": "code",
   "execution_count": 87,
   "metadata": {},
   "outputs": [],
   "source": [
    "from gensim.models import Word2Vec\n",
    "import torch.nn.functional as F\n",
    "import spacy\n",
    "import numpy as np\n",
    "nlp = spacy.load(\"en_core_web_sm\")\n",
    "spacy_sw = spacy.lang.en.stop_words.STOP_WORDS\n",
    "\n",
    "def fct(doc):\n",
    "    return ' '.join([w.lemma_ for w in doc \n",
    "            if w.lemma_ not in spacy_sw and \n",
    "            not w.is_punct and \n",
    "            w.tag_ != 'VBN'\n",
    "           ])\n",
    "\n",
    "def create_weight(text):\n",
    "    desc = list(text)\n",
    "    desc = [d \n",
    "            if type(d) is not np.float \n",
    "            else 'Nothing' \n",
    "            for d in desc]\n",
    "    docs = nlp.pipe(desc)\n",
    "    split_d = [fct(doc).split() for doc in docs]\n",
    "    model_emb_w = Word2Vec(split_d, min_count=10, size=64)\n",
    "    weights = torch.FloatTensor(model_emb_w.wv.vectors)\n",
    "    weights = torch.cat((weights, weights.mean(0, keepdim=True)), dim=0)\n",
    "    return weights, model_emb_w, split_d"
   ]
  },
  {
   "cell_type": "code",
   "execution_count": 88,
   "metadata": {},
   "outputs": [],
   "source": [
    "npt = [text[i] for i in list(text) if i in movie_list]\n",
    "weights, model_emb_w, split_d = create_weight(npt)"
   ]
  },
  {
   "cell_type": "code",
   "execution_count": 89,
   "metadata": {},
   "outputs": [],
   "source": [
    "vocab = list(model_emb_w.wv.vocab)"
   ]
  },
  {
   "cell_type": "code",
   "execution_count": 90,
   "metadata": {},
   "outputs": [],
   "source": [
    "word2id = [torch.LongTensor([vocab.index(w) for w in s if w in vocab]) for s in split_d]\n",
    "# the final term is for padding\n",
    "pad_int = len(vocab)\n",
    "# padding the input (put this in dataloader)\n",
    "word2id_pad = torch.nn.utils.rnn.pad_sequence(word2id, padding_value=pad_int, batch_first=True)"
   ]
  },
  {
   "cell_type": "code",
   "execution_count": 30,
   "metadata": {},
   "outputs": [],
   "source": [
    "import sys"
   ]
  },
  {
   "cell_type": "code",
   "execution_count": 31,
   "metadata": {},
   "outputs": [],
   "source": [
    "sys.path.append('../script')"
   ]
  },
  {
   "cell_type": "code",
   "execution_count": 32,
   "metadata": {},
   "outputs": [],
   "source": [
    "from img2vec import Img2Vec\n",
    "from PIL import Image"
   ]
  },
  {
   "cell_type": "code",
   "execution_count": 33,
   "metadata": {},
   "outputs": [],
   "source": [
    "resnet_features = Img2Vec()"
   ]
  },
  {
   "cell_type": "code",
   "execution_count": 41,
   "metadata": {},
   "outputs": [],
   "source": [
    "vect_img = []\n",
    "for i in movie_list:\n",
    "    file = i + '.jpeg'\n",
    "    img = Image.open(os.path.join(IMAGE_PATH, file))\n",
    "    if img.mode == 'L':\n",
    "        img = img.convert('RGB')\n",
    "    vec = resnet_features.get_vec(img)\n",
    "    vect_img.append(vec)"
   ]
  },
  {
   "cell_type": "code",
   "execution_count": 50,
   "metadata": {},
   "outputs": [],
   "source": [
    "matrix_img = np.stack(vect_img, axis=0)"
   ]
  },
  {
   "cell_type": "code",
   "execution_count": 137,
   "metadata": {},
   "outputs": [],
   "source": [
    "tensor_img = torch.Tensor(matrix_img)"
   ]
  },
  {
   "cell_type": "code",
   "execution_count": 124,
   "metadata": {},
   "outputs": [],
   "source": [
    "ratings_df['movieId'] = ratings_df.movieId.apply(lambda x: movie_list.index(id2imdb[x]))"
   ]
  },
  {
   "cell_type": "code",
   "execution_count": 177,
   "metadata": {},
   "outputs": [],
   "source": [
    "def Neg_Sample(x):\n",
    "    line = (1  - x).nonzero()\n",
    "    line = line[torch.multinomial(torch.ones(line.size(0)), 5, True)].t()\n",
    "    return line"
   ]
  },
  {
   "cell_type": "code",
   "execution_count": 178,
   "metadata": {},
   "outputs": [],
   "source": [
    "class RecoDataset(Dataset):\n",
    "    def __init__(self, data, itemId, userId):\n",
    "        \n",
    "        self.itemId, self.userId = torch.LongTensor(data[itemId]), torch.LongTensor(data[userId])\n",
    "        self.n_user, self.n_item = len(self.userId.unique()), len(self.itemId.unique())\n",
    "        self.n = len(self.itemId)\n",
    "        list_item = data.groupby(userId).agg(list)[itemId]\n",
    "        ohe = to_onehot([list_item[u.item()] for u in self.userId], self.itemId.max() + 1, dtype=torch.float32)\n",
    "        self.neg_samp = torch.cat([self.Neg_Sample(ohe[i]) for i in range(self.n)])\n",
    "        \n",
    "    def Neg_Sample(self, x):\n",
    "        line = (1  - x).nonzero()\n",
    "        line = line[torch.multinomial(torch.ones(line.size(0)), 3, True)].t()\n",
    "        return line\n",
    "\n",
    "    def __len__(self):\n",
    "        return self.n\n",
    "        \n",
    "    def __getitem__(self, idx):\n",
    "        return (self.itemId[idx], self.userId[idx], self.neg_samp[idx])"
   ]
  },
  {
   "cell_type": "code",
   "execution_count": 179,
   "metadata": {},
   "outputs": [],
   "source": [
    "split= 0.8"
   ]
  },
  {
   "cell_type": "code",
   "execution_count": 368,
   "metadata": {},
   "outputs": [
    {
     "data": {
      "text/plain": [
       "37578"
      ]
     },
     "execution_count": 368,
     "metadata": {},
     "output_type": "execute_result"
    }
   ],
   "source": [
    "len(train_data.indices)"
   ]
  },
  {
   "cell_type": "code",
   "execution_count": 181,
   "metadata": {},
   "outputs": [],
   "source": [
    "dataset = RecoDataset(ratings_df, 'movieId', 'userId')\n",
    "lengths = [int(dataset.__len__() * split), int(dataset.__len__() * (1-split)) + 1]\n",
    "lengths = lengths if sum(lengths) == dataset.__len__() else [lengths[0], lengths[1] - 1]\n",
    "train_data, test_data = random_split(dataset, lengths)\n",
    "train_loader = DataLoader(train_data, batch_size=32, shuffle=True)\n",
    "test_loader = DataLoader(test_data, batch_size=32, shuffle=True)"
   ]
  },
  {
   "cell_type": "markdown",
   "metadata": {},
   "source": [
    "## Algo"
   ]
  },
  {
   "cell_type": "code",
   "execution_count": 436,
   "metadata": {},
   "outputs": [],
   "source": [
    "class Reco(nn.Module):\n",
    "    \n",
    "    def __init__(self, nItem, nUser, dim):\n",
    "        super(Reco, self).__init__()\n",
    "\n",
    "        ## GMF\n",
    "        self.embedding_user_gmf = torch.nn.Embedding(num_embeddings=nUser, embedding_dim=dim)\n",
    "        self.embedding_item_gmf = torch.nn.Embedding(num_embeddings=nItem, embedding_dim=dim)      \n",
    "        ## MLP\n",
    "        self.embedding_user_mlp = torch.nn.Embedding(num_embeddings=nUser, embedding_dim=dim)\n",
    "        self.embedding_item_mlp = torch.nn.Embedding(num_embeddings=nItem, embedding_dim=dim)\n",
    "        self.nnItem = nn.Sequential(\n",
    "            nn.Linear(dim, 32),\n",
    "            nn.ReLU(),\n",
    "            nn.Linear(32, 16),\n",
    "            nn.ReLU()\n",
    "        )\n",
    "        self.nnUser = nn.Sequential(\n",
    "            nn.Linear(dim, 32),\n",
    "            nn.ReLU(),\n",
    "            nn.Linear(32, 16),\n",
    "            nn.ReLU()\n",
    "        )\n",
    "        self.nnFusion = nn.Sequential(\n",
    "            nn.Linear(32, 16),\n",
    "            nn.ReLU(),\n",
    "            nn.Linear(16, dim),\n",
    "        )\n",
    "        # total\n",
    "        self.affine_output = nn.Sequential(\n",
    "            nn.Linear(dim*4, 32),\n",
    "            nn.ReLU(),\n",
    "            nn.Linear(32, out_features=1) #out_features=nItem)\n",
    "        )\n",
    "\n",
    "        # text\n",
    "        self.embedding = nn.Embedding.from_pretrained(weights)\n",
    "        self.fctxt = nn.Sequential(\n",
    "            nn.Linear(64, 32),\n",
    "            nn.ReLU(),\n",
    "            nn.Linear(32, dim)\n",
    "        )\n",
    "        \n",
    "        # image\n",
    "        self.fcimg = nn.Sequential(\n",
    "            nn.Linear(2048, 512),\n",
    "            nn.ReLU(),\n",
    "            nn.Linear(512, dim)\n",
    "        )\n",
    "        \n",
    "    def forward(self, item, user, d, img):\n",
    "        # GMF\n",
    "        user_embedding_gmf = self.embedding_user_gmf(user)\n",
    "        item_embedding_gmf = self.embedding_item_gmf(item)        \n",
    "        x_gmf = torch.mul(user_embedding_gmf, item_embedding_gmf)\n",
    "        # MLP\n",
    "        user_embedding_mlp = self.embedding_user_mlp(user)\n",
    "        item_embedding_mlp = self.embedding_item_mlp(item)\n",
    "        x1 = self.nnItem(item_embedding_mlp)\n",
    "        x2 = self.nnUser(user_embedding_mlp)\n",
    "        x_mlp = torch.cat((x1, x2), dim=1)\n",
    "        x_mlp = self.nnFusion(x_mlp)     \n",
    "        # text layers\n",
    "        d = self.embedding(d)\n",
    "        d = d.mean(dim=1)\n",
    "        d = self.fctxt(d)\n",
    "        # image layers\n",
    "        i = self.fcimg(img)\n",
    "        # concat the three layer\n",
    "        vector = torch.cat((x_mlp, x_gmf, d, i), dim=1)   \n",
    "        x = self.affine_output(vector)  \n",
    "        return x"
   ]
  },
  {
   "cell_type": "code",
   "execution_count": 468,
   "metadata": {},
   "outputs": [],
   "source": [
    "R = Reco(ratings_df.movieId.max()+1, ratings_df.userId.max()+1, 32)"
   ]
  },
  {
   "cell_type": "code",
   "execution_count": 469,
   "metadata": {},
   "outputs": [],
   "source": [
    "criterion = torch.nn.BCEWithLogitsLoss()\n",
    "optimizer = optim.Adam(R.parameters(), lr=0.0001)"
   ]
  },
  {
   "cell_type": "code",
   "execution_count": 470,
   "metadata": {},
   "outputs": [],
   "source": [
    "all_losses = []\n",
    "batches = 0"
   ]
  },
  {
   "cell_type": "code",
   "execution_count": 471,
   "metadata": {},
   "outputs": [
    {
     "name": "stdout",
     "output_type": "stream",
     "text": [
      "0m 0s, 0 0 0.5557\n",
      "0m 20s, 0 500 0.4679\n",
      "0m 40s, 0 1000 0.4333\n",
      "0m 47s, 1 1175 0.4755\n",
      "1m 7s, 1 1675 0.4341\n",
      "1m 27s, 1 2175 0.4588\n",
      "1m 35s, 2 2350 0.4980\n",
      "1m 55s, 2 2850 0.4927\n",
      "2m 16s, 2 3350 0.5042\n",
      "2m 23s, 3 3525 0.5137\n",
      "2m 44s, 3 4025 0.4659\n",
      "3m 5s, 3 4525 0.4304\n",
      "3m 12s, 4 4700 0.5259\n",
      "3m 33s, 4 5200 0.4585\n",
      "3m 54s, 4 5700 0.3805\n",
      "4m 1s, 5 5875 0.4411\n",
      "4m 23s, 5 6375 0.4413\n",
      "4m 44s, 5 6875 0.4037\n",
      "4m 52s, 6 7050 0.4520\n",
      "5m 13s, 6 7550 0.4543\n",
      "5m 34s, 6 8050 0.5268\n",
      "5m 41s, 7 8225 0.4396\n",
      "6m 2s, 7 8725 0.4451\n",
      "6m 23s, 7 9225 0.5069\n",
      "6m 31s, 8 9400 0.4232\n",
      "6m 52s, 8 9900 0.4546\n",
      "7m 13s, 8 10400 0.4546\n",
      "7m 21s, 9 10575 0.4401\n",
      "7m 42s, 9 11075 0.4477\n",
      "8m 4s, 9 11575 0.5005\n",
      "Finished Training\n"
     ]
    }
   ],
   "source": [
    "start = time.time()\n",
    "\n",
    "for epoch in range(10):  # loop over the dataset multiple times\n",
    "\n",
    "    for i, data in enumerate(train_loader):\n",
    "        # get the inputs; data is a list of [inputs, labels]\n",
    "        items, users, neg_samp = data\n",
    "        img, d = tensor_img[items], word2id_pad[items]\n",
    "        \n",
    "        batch_size = items.size(0)\n",
    "\n",
    "        pos_target = torch.ones(batch_size, 1)\n",
    "        neg_target = torch.zeros(batch_size, 1)\n",
    "        # zero the parameter gradients\n",
    "        optimizer.zero_grad()\n",
    "\n",
    "        # forward + backward + optimize\n",
    "        outputs_pos = R(items, users, d, img)\n",
    "        loss_neg = torch.tensor([0.])\n",
    "        for i_neg in neg_samp.t():\n",
    "            img_neg, d_neg = tensor_img[i_neg], word2id_pad[i_neg]\n",
    "            outputs_neg = R(i_neg, users, d_neg, img_neg)\n",
    "            loss_neg += criterion(outputs_neg, neg_target)\n",
    "            \n",
    "        loss = (criterion(outputs_pos, pos_target) + loss_neg / 5)/2\n",
    "        loss.backward()\n",
    "        optimizer.step()\n",
    "\n",
    "        # print statistics\n",
    "        if i % 500 == 0:\n",
    "            print('%s, %d %d %.4f' % (timeSince(start), epoch, batches, loss))\n",
    "        all_losses.append(loss.item())\n",
    "        batches += 1\n",
    "\n",
    "print('Finished Training')"
   ]
  },
  {
   "cell_type": "code",
   "execution_count": 472,
   "metadata": {},
   "outputs": [
    {
     "data": {
      "text/plain": [
       "[<matplotlib.lines.Line2D at 0x216098099b0>]"
      ]
     },
     "execution_count": 472,
     "metadata": {},
     "output_type": "execute_result"
    },
    {
     "data": {
      "image/png": "[encoded data removed]",
      "text/plain": [
       "<Figure size 432x288 with 1 Axes>"
      ]
     },
     "metadata": {
      "needs_background": "light"
     },
     "output_type": "display_data"
    }
   ],
   "source": [
    "plt.figure()\n",
    "plt.plot(all_losses)"
   ]
  },
  {
   "cell_type": "markdown",
   "metadata": {},
   "source": [
    "## Evaluation"
   ]
  },
  {
   "cell_type": "code",
   "execution_count": 473,
   "metadata": {},
   "outputs": [],
   "source": [
    "correct = 0\n",
    "correct_neg = 0\n",
    "correct_pos = 0\n",
    "total = 0\n",
    "with torch.no_grad():\n",
    "    for data in test_loader:\n",
    "        items, users, neg_samp = data\n",
    "        img, d = tensor_img[items], word2id_pad[items]\n",
    "        batch_size = items.size(0)\n",
    "        pos_target = torch.ones(batch_size, 1)\n",
    "        neg_target = torch.zeros(batch_size, 1)\n",
    "        outputs_pos = R(items, users, d, img)\n",
    "        loss_neg = torch.tensor([0.])\n",
    "        for i_neg in neg_samp.t():\n",
    "            img_neg, d_neg = tensor_img[i_neg], word2id_pad[i_neg]\n",
    "            outputs_neg = R(i_neg, users, d, img_neg)\n",
    "            loss_neg += criterion(outputs_neg, neg_target)\n",
    "            \n",
    "        total += pos_target.size(0)\n",
    "        correct_pos += criterion(outputs_pos, pos_target).item()\n",
    "        correct_neg += (loss_neg / 5.).item()"
   ]
  },
  {
   "cell_type": "code",
   "execution_count": 474,
   "metadata": {},
   "outputs": [
    {
     "data": {
      "text/plain": [
       "0.014449088406283657"
      ]
     },
     "execution_count": 474,
     "metadata": {},
     "output_type": "execute_result"
    }
   ],
   "source": [
    "(correct_pos + correct_neg) / (total*2)"
   ]
  },
  {
   "cell_type": "code",
   "execution_count": 475,
   "metadata": {},
   "outputs": [
    {
     "data": {
      "text/plain": [
       "(137.06548443436623, 134.43288671970367)"
      ]
     },
     "execution_count": 475,
     "metadata": {},
     "output_type": "execute_result"
    }
   ],
   "source": [
    "correct_neg, correct_pos"
   ]
  },
  {
   "cell_type": "code",
   "execution_count": 476,
   "metadata": {},
   "outputs": [],
   "source": [
    "args = (test_data.dataset.itemId[test_data.indices], \n",
    "        test_data.dataset.userId[test_data.indices], \n",
    "        word2id_pad[test_data.dataset.itemId[test_data.indices]],\n",
    "        tensor_img[test_data.dataset.itemId[test_data.indices]],  \n",
    "       )\n",
    "n = test_data.dataset.n"
   ]
  },
  {
   "cell_type": "code",
   "execution_count": 477,
   "metadata": {},
   "outputs": [
    {
     "data": {
      "text/plain": [
       "0.7522086216072379"
      ]
     },
     "execution_count": 477,
     "metadata": {},
     "output_type": "execute_result"
    }
   ],
   "source": [
    "sum((nn.Sigmoid()(R(*args))).round()).item() / total"
   ]
  },
  {
   "cell_type": "markdown",
   "metadata": {},
   "source": [
    "## Recommendation"
   ]
  },
  {
   "cell_type": "code",
   "execution_count": 478,
   "metadata": {},
   "outputs": [],
   "source": [
    "def reco(user):\n",
    "    movieid_list = list(ratings_df.movieId.unique())\n",
    "    movieid_user_list = list(ratings_df[ratings_df.userId == user].movieId)\n",
    "    items = torch.Tensor([m for m in movieid_list if m not in movieid_user_list]).long()\n",
    "    size = items.shape[0]\n",
    "    args_reco = (items, \n",
    "        torch.ones(size).long(), \n",
    "        word2id_pad[items],\n",
    "        tensor_img[items],  \n",
    "       )\n",
    "    return nn.Sigmoid()(R(*args_reco))"
   ]
  },
  {
   "cell_type": "code",
   "execution_count": 409,
   "metadata": {},
   "outputs": [],
   "source": [
    "pd.options.mode.chained_assignment = None"
   ]
  },
  {
   "cell_type": "code",
   "execution_count": 479,
   "metadata": {},
   "outputs": [],
   "source": [
    "user = 500\n",
    "n_reco = 50\n",
    "reco_user = reco(user)\n",
    "reco_top10 = torch.argsort(reco_user, dim=0, descending=True)[:n_reco].view(n_reco)\n",
    "score_reco = torch.sort(reco_user, dim=0, descending=True)[0][:n_reco].view(n_reco)\n",
    "set_reco = [imdb2id[movie_list[i]] for i in reco_top10]\n",
    "a = movies_df.query(\"movieId in @set_reco\")\n",
    "a['score'] = score_reco.detach().numpy()\n",
    "set_u = [imdb2id[movie_list[i]] for i in list(ratings_df[ratings_df.userId == user].movieId)]\n",
    "u_movies = movies_df.query(\"movieId in @set_u\")"
   ]
  },
  {
   "cell_type": "code",
   "execution_count": 480,
   "metadata": {},
   "outputs": [
    {
     "data": {
      "text/html": [
       "<div>\n",
       "<style scoped>\n",
       "    .dataframe tbody tr th:only-of-type {\n",
       "        vertical-align: middle;\n",
       "    }\n",
       "\n",
       "    .dataframe tbody tr th {\n",
       "        vertical-align: top;\n",
       "    }\n",
       "\n",
       "    .dataframe thead th {\n",
       "        text-align: right;\n",
       "    }\n",
       "</style>\n",
       "<table border=\"1\" class=\"dataframe\">\n",
       "  <thead>\n",
       "    <tr style=\"text-align: right;\">\n",
       "      <th></th>\n",
       "      <th>movieId</th>\n",
       "      <th>title</th>\n",
       "      <th>genres</th>\n",
       "    </tr>\n",
       "  </thead>\n",
       "  <tbody>\n",
       "    <tr>\n",
       "      <th>2028</th>\n",
       "      <td>2700</td>\n",
       "      <td>South Park: Bigger, Longer and Uncut (1999)</td>\n",
       "      <td>Animation|Comedy|Musical</td>\n",
       "    </tr>\n",
       "    <tr>\n",
       "      <th>1570</th>\n",
       "      <td>2108</td>\n",
       "      <td>L.A. Story (1991)</td>\n",
       "      <td>Comedy|Romance</td>\n",
       "    </tr>\n",
       "    <tr>\n",
       "      <th>2259</th>\n",
       "      <td>2997</td>\n",
       "      <td>Being John Malkovich (1999)</td>\n",
       "      <td>Comedy|Drama|Fantasy</td>\n",
       "    </tr>\n",
       "    <tr>\n",
       "      <th>1322</th>\n",
       "      <td>1784</td>\n",
       "      <td>As Good as It Gets (1997)</td>\n",
       "      <td>Comedy|Drama|Romance</td>\n",
       "    </tr>\n",
       "    <tr>\n",
       "      <th>1404</th>\n",
       "      <td>1923</td>\n",
       "      <td>There's Something About Mary (1998)</td>\n",
       "      <td>Comedy|Romance</td>\n",
       "    </tr>\n",
       "    <tr>\n",
       "      <th>314</th>\n",
       "      <td>356</td>\n",
       "      <td>Forrest Gump (1994)</td>\n",
       "      <td>Comedy|Drama|Romance|War</td>\n",
       "    </tr>\n",
       "  </tbody>\n",
       "</table>\n",
       "</div>"
      ],
      "text/plain": [
       "      movieId                                        title  \\\n",
       "2028     2700  South Park: Bigger, Longer and Uncut (1999)   \n",
       "1570     2108                            L.A. Story (1991)   \n",
       "2259     2997                  Being John Malkovich (1999)   \n",
       "1322     1784                    As Good as It Gets (1997)   \n",
       "1404     1923          There's Something About Mary (1998)   \n",
       "314       356                          Forrest Gump (1994)   \n",
       "\n",
       "                        genres  \n",
       "2028  Animation|Comedy|Musical  \n",
       "1570            Comedy|Romance  \n",
       "2259      Comedy|Drama|Fantasy  \n",
       "1322      Comedy|Drama|Romance  \n",
       "1404            Comedy|Romance  \n",
       "314   Comedy|Drama|Romance|War  "
      ]
     },
     "execution_count": 480,
     "metadata": {},
     "output_type": "execute_result"
    }
   ],
   "source": [
    "u_movies.sample(6)"
   ]
  },
  {
   "cell_type": "code",
   "execution_count": 481,
   "metadata": {},
   "outputs": [
    {
     "data": {
      "text/html": [
       "<div>\n",
       "<style scoped>\n",
       "    .dataframe tbody tr th:only-of-type {\n",
       "        vertical-align: middle;\n",
       "    }\n",
       "\n",
       "    .dataframe tbody tr th {\n",
       "        vertical-align: top;\n",
       "    }\n",
       "\n",
       "    .dataframe thead th {\n",
       "        text-align: right;\n",
       "    }\n",
       "</style>\n",
       "<table border=\"1\" class=\"dataframe\">\n",
       "  <thead>\n",
       "    <tr style=\"text-align: right;\">\n",
       "      <th></th>\n",
       "      <th>movieId</th>\n",
       "      <th>title</th>\n",
       "      <th>genres</th>\n",
       "      <th>score</th>\n",
       "    </tr>\n",
       "  </thead>\n",
       "  <tbody>\n",
       "    <tr>\n",
       "      <th>5372</th>\n",
       "      <td>8958</td>\n",
       "      <td>Ray (2004)</td>\n",
       "      <td>Drama</td>\n",
       "      <td>0.861675</td>\n",
       "    </tr>\n",
       "    <tr>\n",
       "      <th>1687</th>\n",
       "      <td>2268</td>\n",
       "      <td>Few Good Men, A (1992)</td>\n",
       "      <td>Crime|Drama|Thriller</td>\n",
       "      <td>0.887539</td>\n",
       "    </tr>\n",
       "    <tr>\n",
       "      <th>23</th>\n",
       "      <td>24</td>\n",
       "      <td>Powder (1995)</td>\n",
       "      <td>Drama|Sci-Fi</td>\n",
       "      <td>0.972068</td>\n",
       "    </tr>\n",
       "    <tr>\n",
       "      <th>510</th>\n",
       "      <td>593</td>\n",
       "      <td>Silence of the Lambs, The (1991)</td>\n",
       "      <td>Crime|Horror|Thriller</td>\n",
       "      <td>0.920881</td>\n",
       "    </tr>\n",
       "    <tr>\n",
       "      <th>2372</th>\n",
       "      <td>3147</td>\n",
       "      <td>Green Mile, The (1999)</td>\n",
       "      <td>Crime|Drama</td>\n",
       "      <td>0.877669</td>\n",
       "    </tr>\n",
       "    <tr>\n",
       "      <th>668</th>\n",
       "      <td>880</td>\n",
       "      <td>Island of Dr. Moreau, The (1996)</td>\n",
       "      <td>Sci-Fi|Thriller</td>\n",
       "      <td>0.902792</td>\n",
       "    </tr>\n",
       "  </tbody>\n",
       "</table>\n",
       "</div>"
      ],
      "text/plain": [
       "      movieId                             title                 genres  \\\n",
       "5372     8958                        Ray (2004)                  Drama   \n",
       "1687     2268            Few Good Men, A (1992)   Crime|Drama|Thriller   \n",
       "23         24                     Powder (1995)           Drama|Sci-Fi   \n",
       "510       593  Silence of the Lambs, The (1991)  Crime|Horror|Thriller   \n",
       "2372     3147            Green Mile, The (1999)            Crime|Drama   \n",
       "668       880  Island of Dr. Moreau, The (1996)        Sci-Fi|Thriller   \n",
       "\n",
       "         score  \n",
       "5372  0.861675  \n",
       "1687  0.887539  \n",
       "23    0.972068  \n",
       "510   0.920881  \n",
       "2372  0.877669  \n",
       "668   0.902792  "
      ]
     },
     "execution_count": 481,
     "metadata": {},
     "output_type": "execute_result"
    }
   ],
   "source": [
    "a.sample(6)"
   ]
  },
  {
   "cell_type": "code",
   "execution_count": 467,
   "metadata": {},
   "outputs": [
    {
     "data": {
      "text/plain": [
       "tensor([[0.4617],\n",
       "        [0.4610],\n",
       "        [0.4605],\n",
       "        [0.4605],\n",
       "        [0.4595],\n",
       "        [0.4583],\n",
       "        [0.4577],\n",
       "        [0.4575],\n",
       "        [0.4571],\n",
       "        [0.4566],\n",
       "        [0.4563],\n",
       "        [0.4559],\n",
       "        [0.4550],\n",
       "        [0.4549],\n",
       "        [0.4544],\n",
       "        [0.4540],\n",
       "        [0.4537],\n",
       "        [0.4536],\n",
       "        [0.4535],\n",
       "        [0.4526],\n",
       "        [0.4525],\n",
       "        [0.4523],\n",
       "        [0.4519],\n",
       "        [0.4515],\n",
       "        [0.4512],\n",
       "        [0.4508],\n",
       "        [0.4506],\n",
       "        [0.4506],\n",
       "        [0.4492],\n",
       "        [0.4488],\n",
       "        [0.4483],\n",
       "        [0.4472],\n",
       "        [0.4471],\n",
       "        [0.4471],\n",
       "        [0.4469],\n",
       "        [0.4467],\n",
       "        [0.4464],\n",
       "        [0.4459],\n",
       "        [0.4458],\n",
       "        [0.4454],\n",
       "        [0.4444],\n",
       "        [0.4434],\n",
       "        [0.4420],\n",
       "        [0.4415],\n",
       "        [0.4410],\n",
       "        [0.4406],\n",
       "        [0.4405],\n",
       "        [0.4403],\n",
       "        [0.4381],\n",
       "        [0.4370],\n",
       "        [0.4370],\n",
       "        [0.4368],\n",
       "        [0.4367],\n",
       "        [0.4358],\n",
       "        [0.4351],\n",
       "        [0.4351],\n",
       "        [0.4333],\n",
       "        [0.4328],\n",
       "        [0.4315],\n",
       "        [0.4315],\n",
       "        [0.4310],\n",
       "        [0.4296],\n",
       "        [0.4295],\n",
       "        [0.4286],\n",
       "        [0.4285],\n",
       "        [0.4282],\n",
       "        [0.4277],\n",
       "        [0.4276],\n",
       "        [0.4273],\n",
       "        [0.4266],\n",
       "        [0.4255],\n",
       "        [0.4250],\n",
       "        [0.4240],\n",
       "        [0.4216],\n",
       "        [0.4209],\n",
       "        [0.4195],\n",
       "        [0.4187],\n",
       "        [0.4183],\n",
       "        [0.4177],\n",
       "        [0.4147],\n",
       "        [0.4142],\n",
       "        [0.4118],\n",
       "        [0.4114],\n",
       "        [0.4111],\n",
       "        [0.4108],\n",
       "        [0.4054],\n",
       "        [0.4035],\n",
       "        [0.4020],\n",
       "        [0.4006],\n",
       "        [0.4005],\n",
       "        [0.3995],\n",
       "        [0.3995],\n",
       "        [0.3988],\n",
       "        [0.3951],\n",
       "        [0.3921],\n",
       "        [0.3910],\n",
       "        [0.3873],\n",
       "        [0.3873],\n",
       "        [0.3852],\n",
       "        [0.3772]], grad_fn=<SliceBackward>)"
      ]
     },
     "execution_count": 467,
     "metadata": {},
     "output_type": "execute_result"
    }
   ],
   "source": [
    "torch.sort(reco_user, dim=0, descending=True)[0][-100:]"
   ]
  },
  {
   "cell_type": "code",
   "execution_count": null,
   "metadata": {},
   "outputs": [],
   "source": []
  }
 ],
 "metadata": {
  "kernelspec": {
   "display_name": "Python 3",
   "language": "python",
   "name": "python3"
  },
  "language_info": {
   "codemirror_mode": {
    "name": "ipython",
    "version": 3
   },
   "file_extension": ".py",
   "mimetype": "text/x-python",
   "name": "python",
   "nbconvert_exporter": "python",
   "pygments_lexer": "ipython3",
   "version": "3.7.1"
  }
 },
 "nbformat": 4,
 "nbformat_minor": 2
}
