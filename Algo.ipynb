{
 "cells": [
  {
   "cell_type": "code",
   "execution_count": 14,
   "metadata": {},
   "outputs": [],
   "source": [
    "import pandas as pd\n",
    "import numpy as np\n",
    "import os, sys"
   ]
  },
  {
   "cell_type": "code",
   "execution_count": 15,
   "metadata": {},
   "outputs": [],
   "source": [
    "import torch\n",
    "from torch.utils.data import Dataset\n",
    "from torch.utils.data import DataLoader\n",
    "from torch.autograd import Variable\n",
    "import torch.nn as nn\n",
    "import torch.nn.functional as F\n",
    "import torch.optim as optim"
   ]
  },
  {
   "cell_type": "code",
   "execution_count": 16,
   "metadata": {},
   "outputs": [],
   "source": [
    "from torch.utils.data.dataset import random_split"
   ]
  },
  {
   "cell_type": "code",
   "execution_count": 17,
   "metadata": {},
   "outputs": [],
   "source": [
    "from time import sleep"
   ]
  },
  {
   "cell_type": "code",
   "execution_count": 18,
   "metadata": {},
   "outputs": [],
   "source": [
    "import matplotlib.pyplot as plt\n",
    "import matplotlib.ticker as ticker\n",
    "%matplotlib inline"
   ]
  },
  {
   "cell_type": "code",
   "execution_count": 19,
   "metadata": {},
   "outputs": [],
   "source": [
    "import time\n",
    "import math\n",
    "\n",
    "def timeSince(since):\n",
    "    now = time.time()\n",
    "    s = now - since\n",
    "    m = math.floor(s / 60)\n",
    "    s -= m * 60\n",
    "    return '%dm %ds' % (m, s)"
   ]
  },
  {
   "cell_type": "code",
   "execution_count": 20,
   "metadata": {},
   "outputs": [],
   "source": [
    "def to_onehot(labels, n_categories, dtype=torch.float32):\n",
    "    batch_size = len(labels)\n",
    "    one_hot_labels = torch.zeros(size=(batch_size, n_categories), dtype=dtype)\n",
    "    for i, label in enumerate(labels):\n",
    "        # Subtract 1 from each LongTensor because your\n",
    "        # indexing starts at 1 and tensor indexing starts at 0\n",
    "        label = torch.LongTensor(label)\n",
    "        one_hot_labels[i] = one_hot_labels[i].scatter_(dim=0, index=label, value=1.)\n",
    "    return one_hot_labels"
   ]
  },
  {
   "cell_type": "code",
   "execution_count": 21,
   "metadata": {},
   "outputs": [],
   "source": [
    "DATA_FOLDER = '../data'\n",
    "FILE = 'train.csv'\n",
    "DATA_PATH = '../data/ml-latest-small'"
   ]
  },
  {
   "cell_type": "code",
   "execution_count": 22,
   "metadata": {},
   "outputs": [],
   "source": [
    "links_df = pd.read_csv(os.path.join(DATA_PATH, 'links.csv'))"
   ]
  },
  {
   "cell_type": "code",
   "execution_count": 23,
   "metadata": {},
   "outputs": [],
   "source": [
    "ratings_df = pd.read_csv(os.path.join(DATA_PATH, 'ratings.csv')).query(\"rating >= 4\").drop(columns=['rating', 'timestamp'])"
   ]
  },
  {
   "cell_type": "code",
   "execution_count": 24,
   "metadata": {},
   "outputs": [],
   "source": [
    "contentMovie_df = pd.read_csv(os.path.join(DATA_FOLDER, FILE))"
   ]
  },
  {
   "cell_type": "code",
   "execution_count": 25,
   "metadata": {},
   "outputs": [],
   "source": [
    "from gensim.models import Word2Vec\n",
    "import torch.nn.functional as F\n",
    "import spacy\n",
    "nlp = spacy.load(\"en_core_web_sm\")\n",
    "spacy_sw = spacy.lang.en.stop_words.STOP_WORDS\n",
    "\n",
    "def fct(doc):\n",
    "    return ' '.join([w.lemma_ for w in doc \n",
    "            if w.lemma_ not in spacy_sw and \n",
    "            not w.is_punct and \n",
    "            w.tag_ != 'VBN'\n",
    "           ])\n",
    "\n",
    "\n",
    "def create_weight(text):\n",
    "    desc = list(text)\n",
    "    desc = [d \n",
    "            if type(d) is not np.float \n",
    "            else 'Nothing' \n",
    "            for d in desc]\n",
    "    docs = nlp.pipe(desc)\n",
    "    split_d = [fct(doc).split() for doc in docs]\n",
    "    model_emb_w = Word2Vec(split_d, min_count=10, size=64)\n",
    "    weights = torch.FloatTensor(model_emb_w.wv.vectors)\n",
    "    weights = torch.cat((weights, weights.mean(0, keepdim=True)), dim=0)\n",
    "    return weights, model_emb_w, split_d"
   ]
  },
  {
   "cell_type": "code",
   "execution_count": 26,
   "metadata": {},
   "outputs": [],
   "source": [
    "text_df = contentMovie_df.iloc[:,:2]"
   ]
  },
  {
   "cell_type": "code",
   "execution_count": 27,
   "metadata": {},
   "outputs": [],
   "source": [
    "id_desc = set(text_df.movieId)"
   ]
  },
  {
   "cell_type": "code",
   "execution_count": 28,
   "metadata": {},
   "outputs": [],
   "source": [
    "ratings_df = pd.read_csv(os.path.join(DATA_PATH, 'ratings.csv')).query(\"rating >= 3 and movieId in @id_desc\").drop(columns=['rating', 'timestamp'])"
   ]
  },
  {
   "cell_type": "code",
   "execution_count": 29,
   "metadata": {},
   "outputs": [],
   "source": [
    "img2id = {links_df.imdbId[i]: links_df.movieId[i] for i in range(len(links_df))}"
   ]
  },
  {
   "cell_type": "code",
   "execution_count": null,
   "metadata": {},
   "outputs": [],
   "source": []
  },
  {
   "cell_type": "code",
   "execution_count": 30,
   "metadata": {},
   "outputs": [
    {
     "ename": "NameError",
     "evalue": "name 'list_img' is not defined",
     "output_type": "error",
     "traceback": [
      "\u001b[1;31m---------------------------------------------------------------------------\u001b[0m",
      "\u001b[1;31mNameError\u001b[0m                                 Traceback (most recent call last)",
      "\u001b[1;32m<ipython-input-30-53d9150bdcaa>\u001b[0m in \u001b[0;36m<module>\u001b[1;34m\u001b[0m\n\u001b[1;32m----> 1\u001b[1;33m \u001b[0mid_img\u001b[0m \u001b[1;33m=\u001b[0m \u001b[1;33m[\u001b[0m\u001b[0mimg2id\u001b[0m\u001b[1;33m[\u001b[0m\u001b[0mi\u001b[0m\u001b[1;33m]\u001b[0m \u001b[1;32mfor\u001b[0m \u001b[0mi\u001b[0m \u001b[1;32min\u001b[0m \u001b[0mlist_img\u001b[0m\u001b[1;33m]\u001b[0m\u001b[1;33m\u001b[0m\u001b[1;33m\u001b[0m\u001b[0m\n\u001b[0m",
      "\u001b[1;31mNameError\u001b[0m: name 'list_img' is not defined"
     ]
    }
   ],
   "source": [
    "id_img = [img2id[i] for i in list_img]"
   ]
  },
  {
   "cell_type": "code",
   "execution_count": 130,
   "metadata": {},
   "outputs": [],
   "source": [
    "m_id = set((ratings_df.movieId.value_counts()[ratings_df.movieId.value_counts() > 5]).index)\n",
    "u_id = set((ratings_df.userId.value_counts()[ratings_df.userId.value_counts() > 5]).index)\n",
    "ratings_df.query(\"movieId in @m_id & userId in @u_id\", inplace=True)\n",
    "ratings_df.query('movieId in @id_img', inplace=True)"
   ]
  },
  {
   "cell_type": "code",
   "execution_count": 120,
   "metadata": {},
   "outputs": [],
   "source": [
    "id2id = {e: i for i, e in enumerate(text_df.movieId.unique())}\n",
    "ratings_df['movieId'] = ratings_df.movieId.map(id2id)"
   ]
  },
  {
   "cell_type": "code",
   "execution_count": 71,
   "metadata": {},
   "outputs": [],
   "source": [
    "weights, model, split_d = create_weight(text_df.description)"
   ]
  },
  {
   "cell_type": "code",
   "execution_count": 72,
   "metadata": {},
   "outputs": [],
   "source": [
    "vocab = list(model.wv.vocab)"
   ]
  },
  {
   "cell_type": "code",
   "execution_count": 73,
   "metadata": {},
   "outputs": [],
   "source": [
    "word2id = [torch.LongTensor([vocab.index(w) for w in s if w in vocab]) for s in split_d]\n",
    "# the final term is for padding\n",
    "pad_int = len(vocab)"
   ]
  },
  {
   "cell_type": "code",
   "execution_count": 133,
   "metadata": {},
   "outputs": [
    {
     "data": {
      "text/plain": [
       "333"
      ]
     },
     "execution_count": 133,
     "metadata": {},
     "output_type": "execute_result"
    }
   ],
   "source": [
    "len([i for i in id_img if i not in set(ratings_df.movieId.unique())])"
   ]
  },
  {
   "cell_type": "code",
   "execution_count": 51,
   "metadata": {},
   "outputs": [],
   "source": [
    "def Neg_Sample(x):\n",
    "    line = (1  - x).nonzero()\n",
    "    line = line[torch.multinomial(torch.ones(line.size(0)), 10, True)].t()\n",
    "    return line"
   ]
  },
  {
   "cell_type": "code",
   "execution_count": 87,
   "metadata": {},
   "outputs": [],
   "source": [
    "class RecoDataset(Dataset):\n",
    "    def __init__(self, data, itemId, userId, word2id):\n",
    "        \n",
    "        self.itemId, self.userId = torch.LongTensor(data[itemId]), torch.LongTensor(data[userId])\n",
    "        self.n_user, self.n_item = len(self.userId.unique()), len(self.itemId.unique())\n",
    "        self.n = len(self.itemId)\n",
    "        list_item = data.groupby(userId).agg(list)[itemId]\n",
    "        ohe = to_onehot([list_item[u.item()] for u in self.userId], self.itemId.max() + 1, dtype=torch.float32)\n",
    "        self.neg_samp = torch.cat([self.Neg_Sample(ohe[i]) for i in range(self.n)])\n",
    "        \n",
    "        desc_id = torch.nn.utils.rnn.pad_sequence(word2id, padding_value=pad_int, batch_first=True)\n",
    "        self.movie_description = desc_id[self.itemId]\n",
    "        \n",
    "    def Neg_Sample(self, x):\n",
    "        line = (1  - x).nonzero()\n",
    "        line = line[torch.multinomial(torch.ones(line.size(0)), 3, True)].t()\n",
    "        return line\n",
    "\n",
    "    def __len__(self):\n",
    "        return self.n\n",
    "        \n",
    "    def __getitem__(self, idx):\n",
    "        return (self.itemId[idx], self.userId[idx], self.movie_description[idx], self.neg_samp[idx])"
   ]
  },
  {
   "cell_type": "code",
   "execution_count": 88,
   "metadata": {},
   "outputs": [],
   "source": [
    "split= 0.8"
   ]
  },
  {
   "cell_type": "code",
   "execution_count": 89,
   "metadata": {},
   "outputs": [
    {
     "ename": "RuntimeError",
     "evalue": "invalid argument 1: tensor must have one dimension at c:\\a\\w\\1\\s\\tmp_conda_3.7_070403\\conda\\conda-bld\\pytorch-cpu_1550387224787\\work\\aten\\src\\th\\generic/THTensorEvenMoreMath.cpp:590",
     "output_type": "error",
     "traceback": [
      "\u001b[1;31m---------------------------------------------------------------------------\u001b[0m",
      "\u001b[1;31mRuntimeError\u001b[0m                              Traceback (most recent call last)",
      "\u001b[1;32m<ipython-input-89-0363705eddcd>\u001b[0m in \u001b[0;36m<module>\u001b[1;34m\u001b[0m\n\u001b[1;32m----> 1\u001b[1;33m \u001b[0mdataset\u001b[0m \u001b[1;33m=\u001b[0m \u001b[0mRecoDataset\u001b[0m\u001b[1;33m(\u001b[0m\u001b[0mratings_df\u001b[0m\u001b[1;33m,\u001b[0m \u001b[1;34m'movieId'\u001b[0m\u001b[1;33m,\u001b[0m \u001b[1;34m'userId'\u001b[0m\u001b[1;33m,\u001b[0m \u001b[0mword2id\u001b[0m\u001b[1;33m)\u001b[0m\u001b[1;33m\u001b[0m\u001b[1;33m\u001b[0m\u001b[0m\n\u001b[0m\u001b[0;32m      2\u001b[0m \u001b[0mlengths\u001b[0m \u001b[1;33m=\u001b[0m \u001b[1;33m[\u001b[0m\u001b[0mint\u001b[0m\u001b[1;33m(\u001b[0m\u001b[0mdataset\u001b[0m\u001b[1;33m.\u001b[0m\u001b[0m__len__\u001b[0m\u001b[1;33m(\u001b[0m\u001b[1;33m)\u001b[0m \u001b[1;33m*\u001b[0m \u001b[0msplit\u001b[0m\u001b[1;33m)\u001b[0m\u001b[1;33m,\u001b[0m \u001b[0mint\u001b[0m\u001b[1;33m(\u001b[0m\u001b[0mdataset\u001b[0m\u001b[1;33m.\u001b[0m\u001b[0m__len__\u001b[0m\u001b[1;33m(\u001b[0m\u001b[1;33m)\u001b[0m \u001b[1;33m*\u001b[0m \u001b[1;33m(\u001b[0m\u001b[1;36m1\u001b[0m\u001b[1;33m-\u001b[0m\u001b[0msplit\u001b[0m\u001b[1;33m)\u001b[0m\u001b[1;33m)\u001b[0m \u001b[1;33m+\u001b[0m \u001b[1;36m1\u001b[0m\u001b[1;33m]\u001b[0m\u001b[1;33m\u001b[0m\u001b[1;33m\u001b[0m\u001b[0m\n\u001b[0;32m      3\u001b[0m \u001b[0mlengths\u001b[0m \u001b[1;33m=\u001b[0m \u001b[0mlengths\u001b[0m \u001b[1;32mif\u001b[0m \u001b[0msum\u001b[0m\u001b[1;33m(\u001b[0m\u001b[0mlengths\u001b[0m\u001b[1;33m)\u001b[0m \u001b[1;33m==\u001b[0m \u001b[0mdataset\u001b[0m\u001b[1;33m.\u001b[0m\u001b[0m__len__\u001b[0m\u001b[1;33m(\u001b[0m\u001b[1;33m)\u001b[0m \u001b[1;32melse\u001b[0m \u001b[1;33m[\u001b[0m\u001b[0mlengths\u001b[0m\u001b[1;33m[\u001b[0m\u001b[1;36m0\u001b[0m\u001b[1;33m]\u001b[0m\u001b[1;33m,\u001b[0m \u001b[0mlengths\u001b[0m\u001b[1;33m[\u001b[0m\u001b[1;36m1\u001b[0m\u001b[1;33m]\u001b[0m \u001b[1;33m-\u001b[0m \u001b[1;36m1\u001b[0m\u001b[1;33m]\u001b[0m\u001b[1;33m\u001b[0m\u001b[1;33m\u001b[0m\u001b[0m\n\u001b[0;32m      4\u001b[0m \u001b[0mtrain_data\u001b[0m\u001b[1;33m,\u001b[0m \u001b[0mtest_data\u001b[0m \u001b[1;33m=\u001b[0m \u001b[0mrandom_split\u001b[0m\u001b[1;33m(\u001b[0m\u001b[0mdataset\u001b[0m\u001b[1;33m,\u001b[0m \u001b[0mlengths\u001b[0m\u001b[1;33m)\u001b[0m\u001b[1;33m\u001b[0m\u001b[1;33m\u001b[0m\u001b[0m\n\u001b[0;32m      5\u001b[0m \u001b[0mtrain_loader\u001b[0m \u001b[1;33m=\u001b[0m \u001b[0mDataLoader\u001b[0m\u001b[1;33m(\u001b[0m\u001b[0mtrain_data\u001b[0m\u001b[1;33m,\u001b[0m \u001b[0mbatch_size\u001b[0m\u001b[1;33m=\u001b[0m\u001b[1;36m32\u001b[0m\u001b[1;33m,\u001b[0m \u001b[0mshuffle\u001b[0m\u001b[1;33m=\u001b[0m\u001b[1;32mTrue\u001b[0m\u001b[1;33m)\u001b[0m\u001b[1;33m\u001b[0m\u001b[1;33m\u001b[0m\u001b[0m\n",
      "\u001b[1;32m<ipython-input-87-363927d958f5>\u001b[0m in \u001b[0;36m__init__\u001b[1;34m(self, data, itemId, userId, word2id)\u001b[0m\n\u001b[0;32m      6\u001b[0m         \u001b[0mself\u001b[0m\u001b[1;33m.\u001b[0m\u001b[0mn\u001b[0m \u001b[1;33m=\u001b[0m \u001b[0mlen\u001b[0m\u001b[1;33m(\u001b[0m\u001b[0mself\u001b[0m\u001b[1;33m.\u001b[0m\u001b[0mitemId\u001b[0m\u001b[1;33m)\u001b[0m\u001b[1;33m\u001b[0m\u001b[1;33m\u001b[0m\u001b[0m\n\u001b[0;32m      7\u001b[0m         \u001b[0mlist_item\u001b[0m \u001b[1;33m=\u001b[0m \u001b[0mdata\u001b[0m\u001b[1;33m.\u001b[0m\u001b[0mgroupby\u001b[0m\u001b[1;33m(\u001b[0m\u001b[0muserId\u001b[0m\u001b[1;33m)\u001b[0m\u001b[1;33m.\u001b[0m\u001b[0magg\u001b[0m\u001b[1;33m(\u001b[0m\u001b[0mlist\u001b[0m\u001b[1;33m)\u001b[0m\u001b[1;33m[\u001b[0m\u001b[0mitemId\u001b[0m\u001b[1;33m]\u001b[0m\u001b[1;33m\u001b[0m\u001b[1;33m\u001b[0m\u001b[0m\n\u001b[1;32m----> 8\u001b[1;33m         \u001b[0mohe\u001b[0m \u001b[1;33m=\u001b[0m \u001b[0mto_onehot\u001b[0m\u001b[1;33m(\u001b[0m\u001b[1;33m[\u001b[0m\u001b[0mlist_item\u001b[0m\u001b[1;33m[\u001b[0m\u001b[0mu\u001b[0m\u001b[1;33m.\u001b[0m\u001b[0mitem\u001b[0m\u001b[1;33m(\u001b[0m\u001b[1;33m)\u001b[0m\u001b[1;33m]\u001b[0m \u001b[1;32mfor\u001b[0m \u001b[0mu\u001b[0m \u001b[1;32min\u001b[0m \u001b[0mself\u001b[0m\u001b[1;33m.\u001b[0m\u001b[0muserId\u001b[0m\u001b[1;33m]\u001b[0m\u001b[1;33m,\u001b[0m \u001b[0mself\u001b[0m\u001b[1;33m.\u001b[0m\u001b[0mitemId\u001b[0m\u001b[1;33m.\u001b[0m\u001b[0mmax\u001b[0m\u001b[1;33m(\u001b[0m\u001b[1;33m)\u001b[0m \u001b[1;33m+\u001b[0m \u001b[1;36m1\u001b[0m\u001b[1;33m,\u001b[0m \u001b[0mdtype\u001b[0m\u001b[1;33m=\u001b[0m\u001b[0mtorch\u001b[0m\u001b[1;33m.\u001b[0m\u001b[0mfloat32\u001b[0m\u001b[1;33m)\u001b[0m\u001b[1;33m\u001b[0m\u001b[1;33m\u001b[0m\u001b[0m\n\u001b[0m\u001b[0;32m      9\u001b[0m         \u001b[0mself\u001b[0m\u001b[1;33m.\u001b[0m\u001b[0mneg_samp\u001b[0m \u001b[1;33m=\u001b[0m \u001b[0mtorch\u001b[0m\u001b[1;33m.\u001b[0m\u001b[0mcat\u001b[0m\u001b[1;33m(\u001b[0m\u001b[1;33m[\u001b[0m\u001b[0mself\u001b[0m\u001b[1;33m.\u001b[0m\u001b[0mNeg_Sample\u001b[0m\u001b[1;33m(\u001b[0m\u001b[0mohe\u001b[0m\u001b[1;33m[\u001b[0m\u001b[0mi\u001b[0m\u001b[1;33m]\u001b[0m\u001b[1;33m)\u001b[0m \u001b[1;32mfor\u001b[0m \u001b[0mi\u001b[0m \u001b[1;32min\u001b[0m \u001b[0mrange\u001b[0m\u001b[1;33m(\u001b[0m\u001b[0mself\u001b[0m\u001b[1;33m.\u001b[0m\u001b[0mn\u001b[0m\u001b[1;33m)\u001b[0m\u001b[1;33m]\u001b[0m\u001b[1;33m)\u001b[0m\u001b[1;33m\u001b[0m\u001b[1;33m\u001b[0m\u001b[0m\n\u001b[0;32m     10\u001b[0m \u001b[1;33m\u001b[0m\u001b[0m\n",
      "\u001b[1;31mRuntimeError\u001b[0m: invalid argument 1: tensor must have one dimension at c:\\a\\w\\1\\s\\tmp_conda_3.7_070403\\conda\\conda-bld\\pytorch-cpu_1550387224787\\work\\aten\\src\\th\\generic/THTensorEvenMoreMath.cpp:590"
     ]
    }
   ],
   "source": [
    "dataset = RecoDataset(ratings_df, 'movieId', 'userId', word2id)\n",
    "lengths = [int(dataset.__len__() * split), int(dataset.__len__() * (1-split)) + 1]\n",
    "lengths = lengths if sum(lengths) == dataset.__len__() else [lengths[0], lengths[1] - 1]\n",
    "train_data, test_data = random_split(dataset, lengths)\n",
    "train_loader = DataLoader(train_data, batch_size=32, shuffle=True)\n",
    "test_loader = DataLoader(test_data, batch_size=32, shuffle=True)"
   ]
  },
  {
   "cell_type": "code",
   "execution_count": 179,
   "metadata": {},
   "outputs": [],
   "source": [
    "class RecoWithText(nn.Module):\n",
    "    \n",
    "    def __init__(self, nItem, nUser, dim):\n",
    "        super(RecoWithText, self).__init__()\n",
    "\n",
    "        ## GMF\n",
    "        self.embedding_user_gmf = torch.nn.Embedding(num_embeddings=nUser, embedding_dim=dim)\n",
    "        self.embedding_item_gmf = torch.nn.Embedding(num_embeddings=nItem, embedding_dim=dim)      \n",
    "        ## MLP\n",
    "        self.embedding_user_mlp = torch.nn.Embedding(num_embeddings=nUser, embedding_dim=dim)\n",
    "        self.embedding_item_mlp = torch.nn.Embedding(num_embeddings=nItem, embedding_dim=dim)\n",
    "        self.nnItem = nn.Sequential(\n",
    "            nn.Linear(dim, 32),\n",
    "            nn.ReLU(),\n",
    "            nn.Linear(32, 16),\n",
    "            nn.ReLU()\n",
    "        )\n",
    "        self.nnUser = nn.Sequential(\n",
    "            nn.Linear(dim, 32),\n",
    "            nn.ReLU(),\n",
    "            nn.Linear(32, 16),\n",
    "            nn.ReLU()\n",
    "        )\n",
    "        self.nnFusion = nn.Sequential(\n",
    "            nn.Linear(32, 16),\n",
    "            nn.ReLU(),\n",
    "            nn.Linear(16, dim),\n",
    "        )\n",
    "        # total\n",
    "        self.affine_output = nn.Linear(in_features=dim+dim+dim, out_features=1) #out_features=nItem)\n",
    "        \n",
    "        self.embedding = nn.Embedding.from_pretrained(weights)\n",
    "        self.fc1 = nn.Sequential(\n",
    "            nn.Linear(64, 32),\n",
    "            nn.ReLU(),\n",
    "            nn.Linear(32, dim)\n",
    "        )\n",
    "        \n",
    "        self.logistic = nn.Sigmoid()  \n",
    "        \n",
    "    def forward(self, item, user, d):\n",
    "        # GMF\n",
    "        user_embedding_gmf = self.embedding_user_gmf(user)\n",
    "        item_embedding_gmf = self.embedding_item_gmf(item)        \n",
    "        x_gmf = torch.mul(user_embedding_gmf, item_embedding_gmf)\n",
    "        # MLP\n",
    "        user_embedding_mlp = self.embedding_user_mlp(user)\n",
    "        item_embedding_mlp = self.embedding_item_mlp(item)\n",
    "        x1 = self.nnItem(item_embedding_mlp)\n",
    "        x2 = self.nnUser(user_embedding_mlp)\n",
    "        x_mlp = torch.cat((x1, x2), dim=1)\n",
    "        x_mlp = self.nnFusion(x_mlp)     \n",
    "        # text layer\n",
    "        d = self.embedding(d)\n",
    "        d = d.mean(dim=1)\n",
    "        d = self.fc1(d)\n",
    "        # concat the two models\n",
    "        vector = torch.cat((x_mlp, x_gmf, d), dim=1)   \n",
    "        x = self.affine_output(vector)\n",
    "        \n",
    "        # x = self.logistic(logits)   \n",
    "        return x"
   ]
  },
  {
   "cell_type": "code",
   "execution_count": 168,
   "metadata": {},
   "outputs": [],
   "source": [
    "class RecoWithoutText(nn.Module):\n",
    "    \n",
    "    def __init__(self, nItem, nUser, dim):\n",
    "        super(RecoWithoutText, self).__init__()\n",
    "\n",
    "        ## GMF\n",
    "        self.embedding_user_gmf = torch.nn.Embedding(num_embeddings=nUser, embedding_dim=dim)\n",
    "        self.embedding_item_gmf = torch.nn.Embedding(num_embeddings=nItem, embedding_dim=dim)      \n",
    "        ## MLP\n",
    "        self.embedding_user_mlp = torch.nn.Embedding(num_embeddings=nUser, embedding_dim=dim)\n",
    "        self.embedding_item_mlp = torch.nn.Embedding(num_embeddings=nItem, embedding_dim=dim)\n",
    "        self.nnItem = nn.Sequential(\n",
    "            nn.Linear(dim, 32),\n",
    "            nn.ReLU(),\n",
    "            nn.Linear(32, 16),\n",
    "            nn.ReLU()\n",
    "        )\n",
    "        self.nnUser = nn.Sequential(\n",
    "            nn.Linear(dim, 32),\n",
    "            nn.ReLU(),\n",
    "            nn.Linear(32, 16),\n",
    "            nn.ReLU()\n",
    "        )\n",
    "        self.nnFinal = nn.Sequential(\n",
    "            nn.Linear(32, 16),\n",
    "            nn.ReLU(),\n",
    "            nn.Linear(16, dim),\n",
    "        )\n",
    "        # total\n",
    "        self.affine_output = nn.Linear(in_features=dim+dim, out_features=1)\n",
    "        self.logistic = nn.Sigmoid()  \n",
    "        \n",
    "    def forward(self, item, user):\n",
    "        # GMF\n",
    "        user_embedding_gmf = self.embedding_user_gmf(user)\n",
    "        item_embedding_gmf = self.embedding_item_gmf(item)        \n",
    "        x_gmf = torch.mul(user_embedding_gmf, item_embedding_gmf)\n",
    "        # MLP\n",
    "        user_embedding_mlp = self.embedding_user_mlp(user)\n",
    "        item_embedding_mlp = self.embedding_item_mlp(item)\n",
    "        x1 = self.nnItem(item_embedding_mlp)\n",
    "        x2 = self.nnUser(user_embedding_mlp)\n",
    "        x_mlp = torch.cat((x1, x2), dim=1)\n",
    "        x_mlp = self.nnFinal(x_mlp)\n",
    "        # concat the two models\n",
    "        vector = torch.cat((x_mlp, x_gmf), dim=1)\n",
    "        x = self.affine_output(vector)\n",
    "\n",
    "        return x"
   ]
  },
  {
   "cell_type": "code",
   "execution_count": 180,
   "metadata": {},
   "outputs": [],
   "source": [
    "R = RecoWithText(ratings_df.movieId.max()+1, ratings_df.userId.max()+1, 32)"
   ]
  },
  {
   "cell_type": "code",
   "execution_count": 169,
   "metadata": {},
   "outputs": [],
   "source": [
    "R = RecoWithoutText(ratings_df.movieId.max()+1, ratings_df.userId.max()+1, 32)"
   ]
  },
  {
   "cell_type": "code",
   "execution_count": 181,
   "metadata": {},
   "outputs": [],
   "source": [
    "criterion = torch.nn.BCEWithLogitsLoss()\n",
    "optimizer = optim.Adadelta(R.parameters())"
   ]
  },
  {
   "cell_type": "code",
   "execution_count": 182,
   "metadata": {},
   "outputs": [],
   "source": [
    "all_losses = []\n",
    "batches = 0"
   ]
  },
  {
   "cell_type": "code",
   "execution_count": 183,
   "metadata": {},
   "outputs": [
    {
     "name": "stdout",
     "output_type": "stream",
     "text": [
      "0m 0s, 0 0 0.6848\n",
      "0m 3s, 1 383 0.4524\n",
      "0m 7s, 2 766 0.4092\n",
      "0m 12s, 3 1149 0.4299\n",
      "0m 16s, 4 1532 0.3732\n",
      "0m 20s, 5 1915 0.3318\n",
      "0m 24s, 6 2298 0.3942\n",
      "0m 28s, 7 2681 0.3348\n",
      "0m 32s, 8 3064 0.3860\n",
      "0m 36s, 9 3447 0.3901\n",
      "0m 41s, 10 3830 0.3301\n",
      "0m 45s, 11 4213 0.3243\n",
      "0m 49s, 12 4596 0.3960\n",
      "0m 53s, 13 4979 0.3514\n",
      "0m 58s, 14 5362 0.3497\n",
      "Finished Training\n"
     ]
    }
   ],
   "source": [
    "start = time.time()\n",
    "\n",
    "for epoch in range(15):  # loop over the dataset multiple times\n",
    "\n",
    "    for i, data in enumerate(train_loader):\n",
    "        # get the inputs; data is a list of [inputs, labels]\n",
    "        items, users, d, neg_samp = data\n",
    "        \n",
    "        batch_size = items.size(0)\n",
    "\n",
    "        pos_target = torch.ones(batch_size, 1)\n",
    "        neg_target = torch.zeros(batch_size, 1)\n",
    "        # zero the parameter gradients\n",
    "        optimizer.zero_grad()\n",
    "\n",
    "        # forward + backward + optimize\n",
    "        outputs_pos = R(items, users, d)\n",
    "        loss_neg = torch.tensor([0.])\n",
    "        for i_neg in neg_samp.t():\n",
    "            outputs_neg = R(i_neg, users, d)\n",
    "            loss_neg += criterion(outputs_neg, neg_target)\n",
    "            \n",
    "        loss = (criterion(outputs_pos, pos_target) + loss_neg / 3)/2\n",
    "        loss.backward()\n",
    "        optimizer.step()\n",
    "\n",
    "        # print statistics\n",
    "        if i % 500 == 0:\n",
    "            print('%s, %d %d %.4f' % (timeSince(start), epoch, batches, loss))\n",
    "        all_losses.append(loss.item())\n",
    "        batches += 1\n",
    "\n",
    "print('Finished Training')"
   ]
  },
  {
   "cell_type": "code",
   "execution_count": 184,
   "metadata": {},
   "outputs": [
    {
     "data": {
      "text/plain": [
       "[<matplotlib.lines.Line2D at 0x1aa1e917668>]"
      ]
     },
     "execution_count": 184,
     "metadata": {},
     "output_type": "execute_result"
    },
    {
     "data": {
      "image/png": "[encoded data removed]",
      "text/plain": [
       "<Figure size 432x288 with 1 Axes>"
      ]
     },
     "metadata": {
      "needs_background": "light"
     },
     "output_type": "display_data"
    }
   ],
   "source": [
    "plt.figure()\n",
    "plt.plot(all_losses)"
   ]
  },
  {
   "cell_type": "markdown",
   "metadata": {},
   "source": [
    "## Evaluation"
   ]
  },
  {
   "cell_type": "code",
   "execution_count": 185,
   "metadata": {},
   "outputs": [],
   "source": [
    "correct = 0\n",
    "correct_neg = 0\n",
    "correct_pos = 0\n",
    "total = 0\n",
    "with torch.no_grad():\n",
    "    for data in test_loader:\n",
    "        items, users, d, neg_samp = data\n",
    "        batch_size = items.size(0)\n",
    "        pos_target = torch.ones(batch_size, 1)\n",
    "        neg_target = torch.zeros(batch_size, 1)\n",
    "        outputs_pos = R(items, users, d)\n",
    "        loss_neg = torch.tensor([0])\n",
    "        for i_neg in neg_samp.t():\n",
    "            outputs_neg = R(i_neg, users, d)\n",
    "            loss_neg += criterion(outputs_neg, neg_target)\n",
    "            \n",
    "        total += pos_target.size(0)\n",
    "        correct_pos += criterion(outputs_pos, pos_target).item()\n",
    "        correct_neg += (loss_neg / 3).item()"
   ]
  },
  {
   "cell_type": "code",
   "execution_count": 186,
   "metadata": {},
   "outputs": [
    {
     "data": {
      "text/plain": [
       "0.011447028790440612"
      ]
     },
     "execution_count": 186,
     "metadata": {},
     "output_type": "execute_result"
    }
   ],
   "source": [
    "(correct_pos + correct_neg) / total"
   ]
  },
  {
   "cell_type": "code",
   "execution_count": 187,
   "metadata": {},
   "outputs": [
    {
     "data": {
      "text/plain": [
       "0.011447028790440612"
      ]
     },
     "execution_count": 187,
     "metadata": {},
     "output_type": "execute_result"
    }
   ],
   "source": [
    "correct_pos / total"
   ]
  },
  {
   "cell_type": "code",
   "execution_count": 190,
   "metadata": {},
   "outputs": [],
   "source": [
    "args = (test_data.dataset.itemId,\n",
    "test_data.dataset.userId,\n",
    "test_data.dataset.movie_description)\n",
    "n = test_data.dataset.n"
   ]
  },
  {
   "cell_type": "code",
   "execution_count": 191,
   "metadata": {},
   "outputs": [
    {
     "data": {
      "text/plain": [
       "0.894166067812112"
      ]
     },
     "execution_count": 191,
     "metadata": {},
     "output_type": "execute_result"
    }
   ],
   "source": [
    "sum((nn.Sigmoid()(R(*args))).round()).item() / n"
   ]
  },
  {
   "cell_type": "markdown",
   "metadata": {},
   "source": [
    "### En cours (image part)"
   ]
  },
  {
   "cell_type": "code",
   "execution_count": 31,
   "metadata": {},
   "outputs": [],
   "source": [
    "import sys\n",
    "from PIL import Image\n",
    "from io import BytesIO"
   ]
  },
  {
   "cell_type": "code",
   "execution_count": 32,
   "metadata": {},
   "outputs": [],
   "source": [
    "sys.path.append('../script')"
   ]
  },
  {
   "cell_type": "code",
   "execution_count": 33,
   "metadata": {},
   "outputs": [],
   "source": [
    "from img2vec import Img2Vec"
   ]
  },
  {
   "cell_type": "code",
   "execution_count": 34,
   "metadata": {},
   "outputs": [],
   "source": [
    "resnet50 = Img2Vec()"
   ]
  },
  {
   "cell_type": "code",
   "execution_count": 35,
   "metadata": {},
   "outputs": [],
   "source": [
    "PATH = '../data/traindata/image'"
   ]
  },
  {
   "cell_type": "code",
   "execution_count": 37,
   "metadata": {},
   "outputs": [],
   "source": [
    "l_file = os.listdir(PATH)"
   ]
  },
  {
   "cell_type": "code",
   "execution_count": 38,
   "metadata": {},
   "outputs": [],
   "source": [
    "list_img = [int(i.replace('.jpeg', '')) for i in l_file]"
   ]
  },
  {
   "cell_type": "code",
   "execution_count": 39,
   "metadata": {},
   "outputs": [],
   "source": [
    "f = l_file[0]\n",
    "def give_vect(f):\n",
    "    img = Image.open(os.path.join(PATH, f))\n",
    "    vec = resnet50.get_vec(img, tensor=True)\n",
    "    return vec"
   ]
  },
  {
   "cell_type": "code",
   "execution_count": 40,
   "metadata": {},
   "outputs": [],
   "source": [
    "matrix_img = torch.cat([give_vect(i) for i in l_file])"
   ]
  },
  {
   "cell_type": "code",
   "execution_count": 41,
   "metadata": {},
   "outputs": [],
   "source": [
    "matrix_img = matrix_img.view(741, 2048)"
   ]
  },
  {
   "cell_type": "code",
   "execution_count": 42,
   "metadata": {},
   "outputs": [],
   "source": [
    "class RecoImageTextDataset(Dataset):\n",
    "    def __init__(self, data, itemId, userId, word2id):\n",
    "        \n",
    "        self.itemId, self.userId = torch.LongTensor(data[itemId]), torch.LongTensor(data[userId])\n",
    "        self.n_user, self.n_item = len(self.userId.unique()), len(self.itemId.unique())\n",
    "        self.n = len(self.itemId)\n",
    "        list_item = data.groupby(userId).agg(list)[itemId]\n",
    "        print(list_item)\n",
    "        ohe = to_onehot([list_item[u.item()] for u in self.userId], self.itemId.max() + 1, dtype=torch.float32)\n",
    "        self.neg_samp = torch.cat([self.Neg_Sample(ohe[i]) for i in range(self.n)])\n",
    "        \n",
    "        desc_id = torch.nn.utils.rnn.pad_sequence(word2id, padding_value=pad_int, batch_first=True)\n",
    "        self.movie_description = desc_id[self.itemId]\n",
    "        \n",
    "    def Neg_Sample(self, x):\n",
    "        line = (1  - x).nonzero()\n",
    "        line = line[torch.multinomial(torch.ones(line.size(0)), 3, True)].t()\n",
    "        return line\n",
    "\n",
    "    def __len__(self):\n",
    "        return self.n\n",
    "        \n",
    "    def __getitem__(self, idx):\n",
    "        return (self.itemId[idx], self.userId[idx], self.movie_description[idx], self.image, self.neg_samp[idx])"
   ]
  },
  {
   "cell_type": "code",
   "execution_count": 43,
   "metadata": {},
   "outputs": [],
   "source": [
    "split= 0.8"
   ]
  },
  {
   "cell_type": "code",
   "execution_count": 44,
   "metadata": {},
   "outputs": [
    {
     "ename": "NameError",
     "evalue": "name 'word2id' is not defined",
     "output_type": "error",
     "traceback": [
      "\u001b[1;31m---------------------------------------------------------------------------\u001b[0m",
      "\u001b[1;31mNameError\u001b[0m                                 Traceback (most recent call last)",
      "\u001b[1;32m<ipython-input-44-07348868b9a6>\u001b[0m in \u001b[0;36m<module>\u001b[1;34m\u001b[0m\n\u001b[1;32m----> 1\u001b[1;33m \u001b[0mdataset\u001b[0m \u001b[1;33m=\u001b[0m \u001b[0mRecoImageTextDataset\u001b[0m\u001b[1;33m(\u001b[0m\u001b[0mratings_df\u001b[0m\u001b[1;33m,\u001b[0m \u001b[1;34m'movieId'\u001b[0m\u001b[1;33m,\u001b[0m \u001b[1;34m'userId'\u001b[0m\u001b[1;33m,\u001b[0m \u001b[0mword2id\u001b[0m\u001b[1;33m)\u001b[0m\u001b[1;33m\u001b[0m\u001b[1;33m\u001b[0m\u001b[0m\n\u001b[0m\u001b[0;32m      2\u001b[0m \u001b[0mlengths\u001b[0m \u001b[1;33m=\u001b[0m \u001b[1;33m[\u001b[0m\u001b[0mint\u001b[0m\u001b[1;33m(\u001b[0m\u001b[0mdataset\u001b[0m\u001b[1;33m.\u001b[0m\u001b[0m__len__\u001b[0m\u001b[1;33m(\u001b[0m\u001b[1;33m)\u001b[0m \u001b[1;33m*\u001b[0m \u001b[0msplit\u001b[0m\u001b[1;33m)\u001b[0m\u001b[1;33m,\u001b[0m \u001b[0mint\u001b[0m\u001b[1;33m(\u001b[0m\u001b[0mdataset\u001b[0m\u001b[1;33m.\u001b[0m\u001b[0m__len__\u001b[0m\u001b[1;33m(\u001b[0m\u001b[1;33m)\u001b[0m \u001b[1;33m*\u001b[0m \u001b[1;33m(\u001b[0m\u001b[1;36m1\u001b[0m\u001b[1;33m-\u001b[0m\u001b[0msplit\u001b[0m\u001b[1;33m)\u001b[0m\u001b[1;33m)\u001b[0m \u001b[1;33m+\u001b[0m \u001b[1;36m1\u001b[0m\u001b[1;33m]\u001b[0m\u001b[1;33m\u001b[0m\u001b[1;33m\u001b[0m\u001b[0m\n\u001b[0;32m      3\u001b[0m \u001b[0mlengths\u001b[0m \u001b[1;33m=\u001b[0m \u001b[0mlengths\u001b[0m \u001b[1;32mif\u001b[0m \u001b[0msum\u001b[0m\u001b[1;33m(\u001b[0m\u001b[0mlengths\u001b[0m\u001b[1;33m)\u001b[0m \u001b[1;33m==\u001b[0m \u001b[0mdataset\u001b[0m\u001b[1;33m.\u001b[0m\u001b[0m__len__\u001b[0m\u001b[1;33m(\u001b[0m\u001b[1;33m)\u001b[0m \u001b[1;32melse\u001b[0m \u001b[1;33m[\u001b[0m\u001b[0mlengths\u001b[0m\u001b[1;33m[\u001b[0m\u001b[1;36m0\u001b[0m\u001b[1;33m]\u001b[0m\u001b[1;33m,\u001b[0m \u001b[0mlengths\u001b[0m\u001b[1;33m[\u001b[0m\u001b[1;36m1\u001b[0m\u001b[1;33m]\u001b[0m \u001b[1;33m-\u001b[0m \u001b[1;36m1\u001b[0m\u001b[1;33m]\u001b[0m\u001b[1;33m\u001b[0m\u001b[1;33m\u001b[0m\u001b[0m\n\u001b[0;32m      4\u001b[0m \u001b[0mtrain_data\u001b[0m\u001b[1;33m,\u001b[0m \u001b[0mtest_data\u001b[0m \u001b[1;33m=\u001b[0m \u001b[0mrandom_split\u001b[0m\u001b[1;33m(\u001b[0m\u001b[0mdataset\u001b[0m\u001b[1;33m,\u001b[0m \u001b[0mlengths\u001b[0m\u001b[1;33m)\u001b[0m\u001b[1;33m\u001b[0m\u001b[1;33m\u001b[0m\u001b[0m\n\u001b[0;32m      5\u001b[0m \u001b[0mtrain_loader\u001b[0m \u001b[1;33m=\u001b[0m \u001b[0mDataLoader\u001b[0m\u001b[1;33m(\u001b[0m\u001b[0mtrain_data\u001b[0m\u001b[1;33m,\u001b[0m \u001b[0mbatch_size\u001b[0m\u001b[1;33m=\u001b[0m\u001b[1;36m32\u001b[0m\u001b[1;33m,\u001b[0m \u001b[0mshuffle\u001b[0m\u001b[1;33m=\u001b[0m\u001b[1;32mTrue\u001b[0m\u001b[1;33m)\u001b[0m\u001b[1;33m\u001b[0m\u001b[1;33m\u001b[0m\u001b[0m\n",
      "\u001b[1;31mNameError\u001b[0m: name 'word2id' is not defined"
     ]
    }
   ],
   "source": [
    "dataset = RecoImageTextDataset(ratings_df, 'movieId', 'userId', word2id)\n",
    "lengths = [int(dataset.__len__() * split), int(dataset.__len__() * (1-split)) + 1]\n",
    "lengths = lengths if sum(lengths) == dataset.__len__() else [lengths[0], lengths[1] - 1]\n",
    "train_data, test_data = random_split(dataset, lengths)\n",
    "train_loader = DataLoader(train_data, batch_size=32, shuffle=True)\n",
    "test_loader = DataLoader(test_data, batch_size=32, shuffle=True)"
   ]
  },
  {
   "cell_type": "code",
   "execution_count": 53,
   "metadata": {},
   "outputs": [],
   "source": [
    "desc_id = torch.nn.utils.rnn.pad_sequence(word2id, padding_value=pad_int, batch_first=True)"
   ]
  },
  {
   "cell_type": "code",
   "execution_count": null,
   "metadata": {},
   "outputs": [],
   "source": []
  },
  {
   "cell_type": "code",
   "execution_count": null,
   "metadata": {},
   "outputs": [],
   "source": []
  }
 ],
 "metadata": {
  "kernelspec": {
   "display_name": "Python 3",
   "language": "python",
   "name": "python3"
  },
  "language_info": {
   "codemirror_mode": {
    "name": "ipython",
    "version": 3
   },
   "file_extension": ".py",
   "mimetype": "text/x-python",
   "name": "python",
   "nbconvert_exporter": "python",
   "pygments_lexer": "ipython3",
   "version": "3.7.1"
  }
 },
 "nbformat": 4,
 "nbformat_minor": 2
}
