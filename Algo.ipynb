{
 "cells": [
  {
   "cell_type": "code",
   "execution_count": 1,
   "metadata": {},
   "outputs": [],
   "source": [
    "import pandas as pd\n",
    "import numpy as np\n",
    "import os, sys"
   ]
  },
  {
   "cell_type": "code",
   "execution_count": 2,
   "metadata": {},
   "outputs": [],
   "source": [
    "import torch\n",
    "from torch.utils.data import Dataset\n",
    "from torch.utils.data import DataLoader\n",
    "from torch.autograd import Variable\n",
    "import torch.nn as nn\n",
    "import torch.nn.functional as F\n",
    "import torch.optim as optim"
   ]
  },
  {
   "cell_type": "code",
   "execution_count": 3,
   "metadata": {},
   "outputs": [],
   "source": [
    "from torch.utils.data.dataset import random_split"
   ]
  },
  {
   "cell_type": "code",
   "execution_count": 4,
   "metadata": {},
   "outputs": [],
   "source": [
    "from time import sleep"
   ]
  },
  {
   "cell_type": "code",
   "execution_count": 5,
   "metadata": {},
   "outputs": [],
   "source": [
    "import matplotlib.pyplot as plt\n",
    "import matplotlib.ticker as ticker\n",
    "%matplotlib inline"
   ]
  },
  {
   "cell_type": "code",
   "execution_count": 6,
   "metadata": {},
   "outputs": [],
   "source": [
    "import time\n",
    "import math\n",
    "\n",
    "def timeSince(since):\n",
    "    now = time.time()\n",
    "    s = now - since\n",
    "    m = math.floor(s / 60)\n",
    "    s -= m * 60\n",
    "    return '%dm %ds' % (m, s)"
   ]
  },
  {
   "cell_type": "code",
   "execution_count": 7,
   "metadata": {},
   "outputs": [],
   "source": [
    "def to_onehot(labels, n_categories, dtype=torch.float32):\n",
    "    batch_size = len(labels)\n",
    "    one_hot_labels = torch.zeros(size=(batch_size, n_categories), dtype=dtype)\n",
    "    for i, label in enumerate(labels):\n",
    "        # Subtract 1 from each LongTensor because your\n",
    "        # indexing starts at 1 and tensor indexing starts at 0\n",
    "        label = torch.LongTensor(label)\n",
    "        one_hot_labels[i] = one_hot_labels[i].scatter_(dim=0, index=label, value=1.)\n",
    "    return one_hot_labels"
   ]
  },
  {
   "cell_type": "code",
   "execution_count": 13,
   "metadata": {},
   "outputs": [],
   "source": [
    "DATA_FOLDER = '../data'\n",
    "FILE = 'train.csv'\n",
    "DATA_PATH = '../data/ml-latest-small'"
   ]
  },
  {
   "cell_type": "code",
   "execution_count": 9,
   "metadata": {},
   "outputs": [],
   "source": [
    "links_df = pd.read_csv(os.path.join(DATA_PATH, 'links.csv'))"
   ]
  },
  {
   "cell_type": "code",
   "execution_count": 10,
   "metadata": {},
   "outputs": [],
   "source": [
    "ratings_df = pd.read_csv(os.path.join(DATA_PATH, 'ratings.csv')).query(\"rating >= 4\").drop(columns=['rating', 'timestamp'])"
   ]
  },
  {
   "cell_type": "code",
   "execution_count": 14,
   "metadata": {},
   "outputs": [],
   "source": [
    "contentMovie_df = pd.read_csv(os.path.join(DATA_FOLDER, FILE))"
   ]
  },
  {
   "cell_type": "code",
   "execution_count": 15,
   "metadata": {},
   "outputs": [],
   "source": [
    "from gensim.models import Word2Vec\n",
    "import torch.nn.functional as F\n",
    "import spacy\n",
    "nlp = spacy.load(\"en_core_web_sm\")\n",
    "spacy_sw = spacy.lang.en.stop_words.STOP_WORDS\n",
    "\n",
    "def fct(doc):\n",
    "    return ' '.join([w.lemma_ for w in doc \n",
    "            if w.lemma_ not in spacy_sw and \n",
    "            not w.is_punct and \n",
    "            w.tag_ != 'VBN'\n",
    "           ])\n",
    "\n",
    "\n",
    "def create_weight(text):\n",
    "    desc = list(text)\n",
    "    desc = [d \n",
    "            if type(d) is not np.float \n",
    "            else 'Nothing' \n",
    "            for d in desc]\n",
    "    docs = nlp.pipe(desc)\n",
    "    split_d = [fct(doc).split() for doc in docs]\n",
    "    model_emb_w = Word2Vec(split_d, min_count=10, size=64)\n",
    "    weights = torch.FloatTensor(model_emb_w.wv.vectors)\n",
    "    weights = torch.cat((weights, weights.mean(0, keepdim=True)), dim=0)\n",
    "    return weights, model_emb_w, split_d"
   ]
  },
  {
   "cell_type": "code",
   "execution_count": 16,
   "metadata": {},
   "outputs": [],
   "source": [
    "text_df = contentMovie_df.iloc[:,:2]"
   ]
  },
  {
   "cell_type": "code",
   "execution_count": 17,
   "metadata": {},
   "outputs": [],
   "source": [
    "id_desc = set(text_df.movieId)"
   ]
  },
  {
   "cell_type": "code",
   "execution_count": 18,
   "metadata": {},
   "outputs": [],
   "source": [
    "ratings_df = pd.read_csv(os.path.join(DATA_PATH, 'ratings.csv')).query(\"rating >= 3 and movieId in @id_desc\").drop(columns=['rating', 'timestamp'])"
   ]
  },
  {
   "cell_type": "code",
   "execution_count": 19,
   "metadata": {},
   "outputs": [],
   "source": [
    "m_id = set((ratings_df.movieId.value_counts()[ratings_df.movieId.value_counts() > 5]).index)\n",
    "u_id = set((ratings_df.userId.value_counts()[ratings_df.userId.value_counts() > 5]).index)\n",
    "ratings_df.query(\"movieId in @m_id & userId in @u_id\", inplace=True)"
   ]
  },
  {
   "cell_type": "code",
   "execution_count": 20,
   "metadata": {},
   "outputs": [],
   "source": [
    "id2id = {e: i for i, e in enumerate(text_df.movieId.unique())}\n",
    "ratings_df['movieId'] = ratings_df.movieId.map(id2id)"
   ]
  },
  {
   "cell_type": "code",
   "execution_count": 282,
   "metadata": {},
   "outputs": [],
   "source": [
    "weights, model, split_d = create_weight(text_df.description)"
   ]
  },
  {
   "cell_type": "code",
   "execution_count": 283,
   "metadata": {},
   "outputs": [],
   "source": [
    "vocab = list(model.wv.vocab)"
   ]
  },
  {
   "cell_type": "code",
   "execution_count": 284,
   "metadata": {},
   "outputs": [],
   "source": [
    "word2id = [torch.LongTensor([vocab.index(w) for w in s if w in vocab]) for s in split_d]\n",
    "# the final term is for padding\n",
    "pad_int = len(vocab)"
   ]
  },
  {
   "cell_type": "code",
   "execution_count": 406,
   "metadata": {},
   "outputs": [],
   "source": [
    "def Neg_Sample(x):\n",
    "    line = (1  - x).nonzero()\n",
    "    line = line[torch.multinomial(torch.ones(line.size(0)), 10, True)].t()\n",
    "    return line"
   ]
  },
  {
   "cell_type": "code",
   "execution_count": 407,
   "metadata": {},
   "outputs": [
    {
     "data": {
      "text/plain": [
       "torch.Size([15307, 10])"
      ]
     },
     "execution_count": 407,
     "metadata": {},
     "output_type": "execute_result"
    }
   ],
   "source": [
    "torch.cat([Neg_Sample(dataset.neg_samp[i]) for i in range(dataset.n)]).shape"
   ]
  },
  {
   "cell_type": "code",
   "execution_count": 461,
   "metadata": {},
   "outputs": [],
   "source": [
    "class RecoDataset(Dataset):\n",
    "    def __init__(self, data, itemId, userId, word2id):\n",
    "        \n",
    "        self.itemId, self.userId = torch.LongTensor(data[itemId]), torch.LongTensor(data[userId])\n",
    "        self.n_user, self.n_item = len(self.userId.unique()), len(self.itemId.unique())\n",
    "        self.n = len(self.itemId)\n",
    "        list_item = data.groupby(userId).agg(list)[itemId]\n",
    "        ohe = to_onehot([list_item[u.item()] for u in self.userId], self.itemId.max() + 1, dtype=torch.float32)\n",
    "        self.neg_samp = torch.cat([self.Neg_Sample(ohe[i]) for i in range(self.n)])\n",
    "        \n",
    "        desc_id = torch.nn.utils.rnn.pad_sequence(word2id, padding_value=pad_int, batch_first=True)\n",
    "        self.movie_description = desc_id[self.itemId]\n",
    "        \n",
    "    def Neg_Sample(self, x):\n",
    "        line = (1  - x).nonzero()\n",
    "        line = line[torch.multinomial(torch.ones(line.size(0)), 3, True)].t()\n",
    "        return line\n",
    "\n",
    "    def __len__(self):\n",
    "        return self.n\n",
    "        \n",
    "    def __getitem__(self, idx):\n",
    "        return (self.itemId[idx], self.userId[idx], self.movie_description[idx], self.neg_samp[idx])"
   ]
  },
  {
   "cell_type": "code",
   "execution_count": 462,
   "metadata": {},
   "outputs": [],
   "source": [
    "split= 0.8"
   ]
  },
  {
   "cell_type": "code",
   "execution_count": 463,
   "metadata": {},
   "outputs": [],
   "source": [
    "dataset = RecoDataset(ratings_df, 'movieId', 'userId', word2id)\n",
    "lengths = [int(dataset.__len__() * split), int(dataset.__len__() * (1-split)) + 1]\n",
    "lengths = lengths if sum(lengths) == dataset.__len__() else [lengths[0], lengths[1] - 1]\n",
    "train_data, test_data = random_split(dataset, lengths)\n",
    "train_loader = DataLoader(train_data, batch_size=16, shuffle=True)\n",
    "test_loader = DataLoader(test_data, batch_size=16, shuffle=True)"
   ]
  },
  {
   "cell_type": "code",
   "execution_count": 464,
   "metadata": {},
   "outputs": [],
   "source": [
    "class RecoWithText(nn.Module):\n",
    "    \n",
    "    def __init__(self, nItem, nUser):\n",
    "        super(RecoWithText, self).__init__()\n",
    "\n",
    "        ## GMF\n",
    "        self.embedding_user_gmf = torch.nn.Embedding(num_embeddings=nUser, embedding_dim=10)\n",
    "        self.embedding_item_gmf = torch.nn.Embedding(num_embeddings=nItem, embedding_dim=10)      \n",
    "        ## MLP\n",
    "        self.embedding_user_mlp = torch.nn.Embedding(num_embeddings=nUser, embedding_dim=10)\n",
    "        self.embedding_item_mlp = torch.nn.Embedding(num_embeddings=nItem, embedding_dim=10)\n",
    "        self.nnItem = nn.Sequential(\n",
    "            nn.Linear(10, 32),\n",
    "            nn.ReLU(),\n",
    "            nn.Linear(32, 16),\n",
    "            nn.ReLU()\n",
    "        )\n",
    "        self.nnUser = nn.Sequential(\n",
    "            nn.Linear(10, 32),\n",
    "            nn.ReLU(),\n",
    "            nn.Linear(32, 16),\n",
    "            nn.ReLU()\n",
    "        )\n",
    "        self.nnFusion = nn.Sequential(\n",
    "            nn.Linear(32, 16),\n",
    "            nn.ReLU(),\n",
    "            nn.Linear(16, 10),\n",
    "        )\n",
    "        # total\n",
    "        self.affine_output = nn.Linear(in_features=10+10+10, out_features=1) #out_features=nItem)\n",
    "        \n",
    "        self.embedding = nn.Embedding.from_pretrained(weights)\n",
    "        self.fc1 = nn.Sequential(\n",
    "            nn.Linear(64, 32),\n",
    "            nn.ReLU(),\n",
    "            nn.Linear(32, 10)\n",
    "        )\n",
    "        \n",
    "        self.logistic = nn.Sigmoid()  \n",
    "        \n",
    "    def forward(self, item, user, d):\n",
    "        # GMF\n",
    "        user_embedding_gmf = self.embedding_user_gmf(user)\n",
    "        item_embedding_gmf = self.embedding_item_gmf(item)        \n",
    "        x_gmf = torch.mul(user_embedding_gmf, item_embedding_gmf)\n",
    "        # MLP\n",
    "        user_embedding_mlp = self.embedding_user_mlp(user)\n",
    "        item_embedding_mlp = self.embedding_item_mlp(item)\n",
    "        x1 = self.nnItem(item_embedding_mlp)\n",
    "        x2 = self.nnUser(user_embedding_mlp)\n",
    "        x_mlp = torch.cat((x1, x2), dim=1)\n",
    "        x_mlp = self.nnFusion(x_mlp)     \n",
    "        # text layer\n",
    "        d = self.embedding(d)\n",
    "        d = d.mean(dim=1)\n",
    "        d = self.fc1(d)\n",
    "        # concat the two models\n",
    "        vector = torch.cat((x_mlp, x_gmf, d), dim=1)   \n",
    "        x = self.affine_output(vector)\n",
    "        \n",
    "        # x = self.logistic(logits)   \n",
    "        return x"
   ]
  },
  {
   "cell_type": "code",
   "execution_count": 465,
   "metadata": {},
   "outputs": [],
   "source": [
    "R = RecoWithText(ratings_df.movieId.max()+1, ratings_df.userId.max()+1)"
   ]
  },
  {
   "cell_type": "code",
   "execution_count": 466,
   "metadata": {},
   "outputs": [],
   "source": [
    "criterion = torch.nn.BCEWithLogitsLoss()\n",
    "optimizer = optim.Adam(R.parameters(), lr=0.001, betas=(0.5, 0.9))"
   ]
  },
  {
   "cell_type": "code",
   "execution_count": 467,
   "metadata": {},
   "outputs": [],
   "source": [
    "all_losses = []\n",
    "batches = 0"
   ]
  },
  {
   "cell_type": "code",
   "execution_count": 468,
   "metadata": {},
   "outputs": [
    {
     "name": "stdout",
     "output_type": "stream",
     "text": [
      "0m 0s, 0 0 1.3966\n",
      "0m 3s, 0 500 0.9883\n",
      "0m 5s, 1 766 1.0530\n",
      "0m 8s, 1 1266 0.9421\n",
      "0m 10s, 2 1532 0.8371\n",
      "0m 13s, 2 2032 0.7776\n",
      "0m 15s, 3 2298 0.9253\n",
      "0m 19s, 3 2798 0.7879\n",
      "0m 21s, 4 3064 0.8192\n",
      "0m 24s, 4 3564 0.9106\n",
      "0m 26s, 5 3830 0.6772\n",
      "0m 30s, 5 4330 0.6756\n",
      "0m 31s, 6 4596 0.5259\n",
      "0m 35s, 6 5096 0.6735\n",
      "0m 37s, 7 5362 0.6174\n",
      "0m 40s, 7 5862 0.7107\n",
      "0m 42s, 8 6128 0.7141\n",
      "0m 46s, 8 6628 0.6679\n",
      "0m 48s, 9 6894 0.6111\n",
      "0m 51s, 9 7394 1.2597\n",
      "0m 53s, 10 7660 0.6053\n",
      "0m 57s, 10 8160 1.1230\n",
      "0m 59s, 11 8426 0.5600\n",
      "1m 2s, 11 8926 0.7502\n",
      "1m 4s, 12 9192 0.6121\n",
      "1m 8s, 12 9692 0.5522\n",
      "1m 9s, 13 9958 0.8823\n",
      "1m 13s, 13 10458 0.8211\n",
      "1m 15s, 14 10724 0.5985\n",
      "1m 18s, 14 11224 0.6684\n",
      "Finished Training\n"
     ]
    }
   ],
   "source": [
    "start = time.time()\n",
    "\n",
    "for epoch in range(15):  # loop over the dataset multiple times\n",
    "\n",
    "    for i, data in enumerate(train_loader):\n",
    "        # get the inputs; data is a list of [inputs, labels]\n",
    "        items, users, d, neg_samp = data\n",
    "        \n",
    "        batch_size = items.size(0)\n",
    "\n",
    "        pos_target = torch.ones(batch_size, 1)\n",
    "        neg_target = torch.zeros(batch_size, 1)\n",
    "        # zero the parameter gradients\n",
    "        optimizer.zero_grad()\n",
    "\n",
    "        # forward + backward + optimize\n",
    "        outputs_pos = R(items, users, d)\n",
    "        loss_neg = torch.tensor([0.])\n",
    "        for i_neg in neg_samp.t():\n",
    "            outputs_neg = R(i_neg, users, d)\n",
    "            loss_neg += criterion(outputs_neg, neg_target)\n",
    "            \n",
    "        loss = (criterion(outputs_pos, pos_target) + loss_neg / 3)/2\n",
    "        loss.backward()\n",
    "        optimizer.step()\n",
    "\n",
    "        # print statistics\n",
    "        if i % 500 == 0:\n",
    "            print('%s, %d %d %.4f' % (timeSince(start), epoch, batches, loss))\n",
    "        all_losses.append(loss.item())\n",
    "        batches += 1\n",
    "\n",
    "print('Finished Training')"
   ]
  },
  {
   "cell_type": "code",
   "execution_count": 469,
   "metadata": {},
   "outputs": [
    {
     "data": {
      "text/plain": [
       "[<matplotlib.lines.Line2D at 0x1e6ae6f1f60>]"
      ]
     },
     "execution_count": 469,
     "metadata": {},
     "output_type": "execute_result"
    },
    {
     "data": {
      "image/png": "[encoded data removed]",
      "text/plain": [
       "<Figure size 432x288 with 1 Axes>"
      ]
     },
     "metadata": {
      "needs_background": "light"
     },
     "output_type": "display_data"
    }
   ],
   "source": [
    "plt.figure()\n",
    "plt.plot(all_losses)"
   ]
  },
  {
   "cell_type": "code",
   "execution_count": 470,
   "metadata": {},
   "outputs": [],
   "source": [
    "correct = 0\n",
    "correct_neg = 0\n",
    "correct_pos = 0\n",
    "total = 0\n",
    "with torch.no_grad():\n",
    "    for data in test_loader:\n",
    "        items, users, d, neg_samp = data\n",
    "        batch_size = items.size(0)\n",
    "        pos_target = torch.ones(batch_size, 1)\n",
    "        neg_target = torch.zeros(batch_size, 1)\n",
    "        outputs_pos = R(items, users, d)\n",
    "        loss_neg = torch.tensor([0])\n",
    "        for i_neg in neg_samp.t():\n",
    "            outputs_neg = R(i_neg, users, d)\n",
    "            loss_neg += criterion(outputs_neg, neg_target)\n",
    "            \n",
    "        total += targets.size(0)\n",
    "        correct_pos += criterion(outputs_pos, pos_target).item()\n",
    "        correct_neg += (loss_neg / 10).item()"
   ]
  },
  {
   "cell_type": "code",
   "execution_count": 476,
   "metadata": {},
   "outputs": [
    {
     "data": {
      "text/plain": [
       "0.021203025758344058"
      ]
     },
     "execution_count": 476,
     "metadata": {},
     "output_type": "execute_result"
    }
   ],
   "source": [
    "(correct_pos + correct_neg) / total"
   ]
  },
  {
   "cell_type": "code",
   "execution_count": null,
   "metadata": {},
   "outputs": [],
   "source": []
  },
  {
   "cell_type": "code",
   "execution_count": null,
   "metadata": {},
   "outputs": [],
   "source": []
  },
  {
   "cell_type": "code",
   "execution_count": null,
   "metadata": {},
   "outputs": [],
   "source": []
  },
  {
   "cell_type": "code",
   "execution_count": null,
   "metadata": {},
   "outputs": [],
   "source": []
  }
 ],
 "metadata": {
  "kernelspec": {
   "display_name": "Python 3",
   "language": "python",
   "name": "python3"
  },
  "language_info": {
   "codemirror_mode": {
    "name": "ipython",
    "version": 3
   },
   "file_extension": ".py",
   "mimetype": "text/x-python",
   "name": "python",
   "nbconvert_exporter": "python",
   "pygments_lexer": "ipython3",
   "version": "3.7.1"
  }
 },
 "nbformat": 4,
 "nbformat_minor": 2
}
